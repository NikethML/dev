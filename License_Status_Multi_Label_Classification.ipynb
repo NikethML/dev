{
  "cells": [
    {
      "cell_type": "markdown",
      "metadata": {
        "id": "view-in-github",
        "colab_type": "text"
      },
      "source": [
        "<a href=\"https://colab.research.google.com/github/NikethML/dev/blob/main/License_Status_Multi_Label_Classification.ipynb\" target=\"_parent\"><img src=\"https://colab.research.google.com/assets/colab-badge.svg\" alt=\"Open In Colab\"/></a>"
      ]
    },
    {
      "cell_type": "markdown",
      "source": [
        "# License Status Prediction - Multiclass Classification\n",
        "<hr style=\"border:1px solid gray\"> </hr>"
      ],
      "metadata": {
        "id": "HtkRHc4cF36_"
      }
    },
    {
      "cell_type": "markdown",
      "source": [
        "## Contents.\n",
        "\n",
        "    1. Problem Description\n",
        "    2. Data Exploration\n",
        "    3. Feature Selection\n",
        "    4. KNN Algorithm\n",
        "    5. Naive Bias\n",
        "    5. Logistic Regression\n",
        "    6. Decisoin Tree\n",
        "    \n",
        "--------------------------------------------------------------------------------------------------------------------------------\n"
      ],
      "metadata": {
        "id": "kuuWdOIjF37F"
      }
    },
    {
      "cell_type": "markdown",
      "source": [
        "### Problem Description\n",
        "\n",
        "We are given a license dataset which holds various information related the business license , The objective of out problem is to predict license Status for the given business. Lets start with delving deep into the data.\n",
        "________________________________________________________________________________________________________________________________"
      ],
      "metadata": {
        "id": "IBhj1ZiDF37G"
      }
    },
    {
      "cell_type": "code",
      "execution_count": 1,
      "source": [
        "!pip install category_encoders"
      ],
      "outputs": [
        {
          "output_type": "stream",
          "name": "stdout",
          "text": [
            "Looking in indexes: https://pypi.org/simple, https://us-python.pkg.dev/colab-wheels/public/simple/\n",
            "Collecting category_encoders\n",
            "  Downloading category_encoders-2.5.0-py2.py3-none-any.whl (69 kB)\n",
            "\u001b[K     |████████████████████████████████| 69 kB 6.0 MB/s \n",
            "\u001b[?25hRequirement already satisfied: scikit-learn>=0.20.0 in /usr/local/lib/python3.7/dist-packages (from category_encoders) (1.0.2)\n",
            "Requirement already satisfied: scipy>=1.0.0 in /usr/local/lib/python3.7/dist-packages (from category_encoders) (1.7.3)\n",
            "Requirement already satisfied: patsy>=0.5.1 in /usr/local/lib/python3.7/dist-packages (from category_encoders) (0.5.2)\n",
            "Requirement already satisfied: numpy>=1.14.0 in /usr/local/lib/python3.7/dist-packages (from category_encoders) (1.21.6)\n",
            "Requirement already satisfied: pandas>=1.0.5 in /usr/local/lib/python3.7/dist-packages (from category_encoders) (1.3.5)\n",
            "Requirement already satisfied: statsmodels>=0.9.0 in /usr/local/lib/python3.7/dist-packages (from category_encoders) (0.12.2)\n",
            "Requirement already satisfied: python-dateutil>=2.7.3 in /usr/local/lib/python3.7/dist-packages (from pandas>=1.0.5->category_encoders) (2.8.2)\n",
            "Requirement already satisfied: pytz>=2017.3 in /usr/local/lib/python3.7/dist-packages (from pandas>=1.0.5->category_encoders) (2022.2.1)\n",
            "Requirement already satisfied: six in /usr/local/lib/python3.7/dist-packages (from patsy>=0.5.1->category_encoders) (1.15.0)\n",
            "Requirement already satisfied: threadpoolctl>=2.0.0 in /usr/local/lib/python3.7/dist-packages (from scikit-learn>=0.20.0->category_encoders) (3.1.0)\n",
            "Requirement already satisfied: joblib>=0.11 in /usr/local/lib/python3.7/dist-packages (from scikit-learn>=0.20.0->category_encoders) (1.1.0)\n",
            "Installing collected packages: category-encoders\n",
            "Successfully installed category-encoders-2.5.0\n"
          ]
        }
      ],
      "metadata": {
        "colab": {
          "base_uri": "https://localhost:8080/"
        },
        "id": "EimIjQY2F37H",
        "outputId": "488804e9-0f10-4cf0-c03f-cbe515c295d5"
      }
    },
    {
      "cell_type": "code",
      "execution_count": 2,
      "source": [
        "import pandas as pd\n",
        "import numpy as np\n",
        "import matplotlib.pyplot as plt\n",
        "%matplotlib inline\n",
        "import os\n",
        "import category_encoders as ce"
      ],
      "outputs": [],
      "metadata": {
        "id": "mQdNnOtUF37I"
      }
    },
    {
      "cell_type": "code",
      "execution_count": 4,
      "source": [
        "# read the df\n",
        "url='https://github.com/NikethML/dev/blob/main/input/License_Data.csv?raw=true'\n",
        "df = pd.read_csv(url)\n",
        "# print the shape of the dataframe\n",
        "print(df.shape)\n",
        "\n",
        "# show the top few rows\n",
        "display(df.head().T)"
      ],
      "outputs": [
        {
          "output_type": "stream",
          "name": "stdout",
          "text": [
            "(85895, 32)\n"
          ]
        },
        {
          "output_type": "stream",
          "name": "stderr",
          "text": [
            "/usr/local/lib/python3.7/dist-packages/IPython/core/interactiveshell.py:3326: DtypeWarning: Columns (9) have mixed types.Specify dtype option on import or set low_memory=False.\n",
            "  exec(code_obj, self.user_global_ns, self.user_ns)\n"
          ]
        },
        {
          "output_type": "display_data",
          "data": {
            "text/plain": [
              "                                                                                   0  \\\n",
              "ID                                                                    35342-20020816   \n",
              "LICENSE ID                                                                   1256593   \n",
              "ACCOUNT NUMBER                                                                 32811   \n",
              "SITE NUMBER                                                                        1   \n",
              "LEGAL NAME                                                              CARMEN CAHUE   \n",
              "DOING BUSINESS AS NAME                                         CLAUDIA'S BRIDAL SHOP   \n",
              "ADDRESS                                                   2625 S CENTRAL PARK AVE  1   \n",
              "CITY                                                                         CHICAGO   \n",
              "STATE                                                                             IL   \n",
              "ZIP CODE                                                                     60623.0   \n",
              "WARD                                                                            22.0   \n",
              "PRECINCT                                                                        28.0   \n",
              "WARD PRECINCT                                                                  22-28   \n",
              "POLICE DISTRICT                                                                 10.0   \n",
              "LICENSE CODE                                                                    1010   \n",
              "LICENSE DESCRIPTION                                         Limited Business License   \n",
              "LICENSE NUMBER                                                               35342.0   \n",
              "APPLICATION TYPE                                                               RENEW   \n",
              "APPLICATION CREATED DATE                                                         NaN   \n",
              "APPLICATION REQUIREMENTS COMPLETE                                2002-06-28T00:00:00   \n",
              "PAYMENT DATE                                                     2002-08-21T00:00:00   \n",
              "CONDITIONAL APPROVAL                                                               N   \n",
              "LICENSE TERM START DATE                                          2002-08-16T00:00:00   \n",
              "LICENSE TERM EXPIRATION DATE                                     2003-08-15T00:00:00   \n",
              "LICENSE APPROVED FOR ISSUANCE                                    2002-08-21T00:00:00   \n",
              "DATE ISSUED                                                      2006-04-11T00:00:00   \n",
              "LICENSE STATUS CHANGE DATE                                                       NaN   \n",
              "SSA                                                                             25.0   \n",
              "LATITUDE                                                                   41.843613   \n",
              "LONGITUDE                                                                 -87.714618   \n",
              "LOCATION                           {'latitude': '41.843612879431845', 'longitude'...   \n",
              "LICENSE STATUS                                                                   AAI   \n",
              "\n",
              "                                                                                   1  \\\n",
              "ID                                                                  1358463-20051116   \n",
              "LICENSE ID                                                                   1639294   \n",
              "ACCOUNT NUMBER                                                                262311   \n",
              "SITE NUMBER                                                                       29   \n",
              "LEGAL NAME                                                       ISLA TROPICAL, INC.   \n",
              "DOING BUSINESS AS NAME                                                 ISLA TROPICAL   \n",
              "ADDRESS                                                          2825 W MONTROSE AVE   \n",
              "CITY                                                                         CHICAGO   \n",
              "STATE                                                                             IL   \n",
              "ZIP CODE                                                                       60618   \n",
              "WARD                                                                            33.0   \n",
              "PRECINCT                                                                        23.0   \n",
              "WARD PRECINCT                                                                  33-23   \n",
              "POLICE DISTRICT                                                                 17.0   \n",
              "LICENSE CODE                                                                    1315   \n",
              "LICENSE DESCRIPTION                                            Mobile Food Dispenser   \n",
              "LICENSE NUMBER                                                             1358463.0   \n",
              "APPLICATION TYPE                                                               RENEW   \n",
              "APPLICATION CREATED DATE                                                         NaN   \n",
              "APPLICATION REQUIREMENTS COMPLETE                                2005-09-22T00:00:00   \n",
              "PAYMENT DATE                                                     2005-11-03T00:00:00   \n",
              "CONDITIONAL APPROVAL                                                               N   \n",
              "LICENSE TERM START DATE                                          2005-11-16T00:00:00   \n",
              "LICENSE TERM EXPIRATION DATE                                     2006-11-15T00:00:00   \n",
              "LICENSE APPROVED FOR ISSUANCE                                    2006-04-05T00:00:00   \n",
              "DATE ISSUED                                                      2006-06-12T00:00:00   \n",
              "LICENSE STATUS CHANGE DATE                                       2006-06-15T00:00:00   \n",
              "SSA                                                                             60.0   \n",
              "LATITUDE                                                                   41.961132   \n",
              "LONGITUDE                                                                 -87.699626   \n",
              "LOCATION                           {'latitude': '41.96113244107215', 'longitude':...   \n",
              "LICENSE STATUS                                                                   AAC   \n",
              "\n",
              "                                                      2  \\\n",
              "ID                                     1980233-20090722   \n",
              "LICENSE ID                                      1980233   \n",
              "ACCOUNT NUMBER                                   345008   \n",
              "SITE NUMBER                                           1   \n",
              "LEGAL NAME                               DJS REMODELING   \n",
              "DOING BUSINESS AS NAME             DJS REMODELING, INC.   \n",
              "ADDRESS                               1605  CLAVEY RD 1   \n",
              "CITY                                           HIGHLAND   \n",
              "STATE                                                IL   \n",
              "ZIP CODE                                          60035   \n",
              "WARD                                                NaN   \n",
              "PRECINCT                                            NaN   \n",
              "WARD PRECINCT                                       NaN   \n",
              "POLICE DISTRICT                                     NaN   \n",
              "LICENSE CODE                                       1011   \n",
              "LICENSE DESCRIPTION                         Home Repair   \n",
              "LICENSE NUMBER                                1980233.0   \n",
              "APPLICATION TYPE                                  ISSUE   \n",
              "APPLICATION CREATED DATE            2009-06-29T00:00:00   \n",
              "APPLICATION REQUIREMENTS COMPLETE   2009-07-22T00:00:00   \n",
              "PAYMENT DATE                        2009-07-22T00:00:00   \n",
              "CONDITIONAL APPROVAL                                  N   \n",
              "LICENSE TERM START DATE             2009-07-22T00:00:00   \n",
              "LICENSE TERM EXPIRATION DATE        2011-07-15T00:00:00   \n",
              "LICENSE APPROVED FOR ISSUANCE       2009-07-22T00:00:00   \n",
              "DATE ISSUED                         2009-07-22T00:00:00   \n",
              "LICENSE STATUS CHANGE DATE                          NaN   \n",
              "SSA                                                 NaN   \n",
              "LATITUDE                                            NaN   \n",
              "LONGITUDE                                           NaN   \n",
              "LOCATION                                            NaN   \n",
              "LICENSE STATUS                                      AAI   \n",
              "\n",
              "                                                          3  \\\n",
              "ID                                         1476582-20040211   \n",
              "LICENSE ID                                          1476582   \n",
              "ACCOUNT NUMBER                                       273121   \n",
              "SITE NUMBER                                               1   \n",
              "LEGAL NAME                         ALL-BRY CONSTRUCTION CO.   \n",
              "DOING BUSINESS AS NAME             ALL-BRY CONSTRUCTION CO.   \n",
              "ADDRESS                                      8  NORTH TRAIL   \n",
              "CITY                                                 LEMONT   \n",
              "STATE                                                    IL   \n",
              "ZIP CODE                                              60439   \n",
              "WARD                                                    NaN   \n",
              "PRECINCT                                                NaN   \n",
              "WARD PRECINCT                                           NaN   \n",
              "POLICE DISTRICT                                         NaN   \n",
              "LICENSE CODE                                           1010   \n",
              "LICENSE DESCRIPTION                Limited Business License   \n",
              "LICENSE NUMBER                                    1476582.0   \n",
              "APPLICATION TYPE                                      ISSUE   \n",
              "APPLICATION CREATED DATE                2004-02-10T00:00:00   \n",
              "APPLICATION REQUIREMENTS COMPLETE       2004-02-10T00:00:00   \n",
              "PAYMENT DATE                            2004-02-10T00:00:00   \n",
              "CONDITIONAL APPROVAL                                      N   \n",
              "LICENSE TERM START DATE                 2004-02-11T00:00:00   \n",
              "LICENSE TERM EXPIRATION DATE            2005-02-15T00:00:00   \n",
              "LICENSE APPROVED FOR ISSUANCE           2004-02-10T00:00:00   \n",
              "DATE ISSUED                             2004-02-11T00:00:00   \n",
              "LICENSE STATUS CHANGE DATE                              NaN   \n",
              "SSA                                                     NaN   \n",
              "LATITUDE                                                NaN   \n",
              "LONGITUDE                                               NaN   \n",
              "LOCATION                                                NaN   \n",
              "LICENSE STATUS                                          AAI   \n",
              "\n",
              "                                                              4  \n",
              "ID                                             1141408-20080516  \n",
              "LICENSE ID                                              1896750  \n",
              "ACCOUNT NUMBER                                           213785  \n",
              "SITE NUMBER                                                   1  \n",
              "LEGAL NAME                         MCDONOUGH MECHANICAL SERVICE  \n",
              "DOING BUSINESS AS NAME             MCDONOUGH MECHANICAL SERVICE  \n",
              "ADDRESS                                         4081  JOSEPH DR  \n",
              "CITY                                                   WAUKEGAN  \n",
              "STATE                                                        IL  \n",
              "ZIP CODE                                                  60087  \n",
              "WARD                                                        NaN  \n",
              "PRECINCT                                                    NaN  \n",
              "WARD PRECINCT                                               NaN  \n",
              "POLICE DISTRICT                                             NaN  \n",
              "LICENSE CODE                                               1010  \n",
              "LICENSE DESCRIPTION                    Limited Business License  \n",
              "LICENSE NUMBER                                        1141408.0  \n",
              "APPLICATION TYPE                                          RENEW  \n",
              "APPLICATION CREATED DATE                                    NaN  \n",
              "APPLICATION REQUIREMENTS COMPLETE           2008-03-24T00:00:00  \n",
              "PAYMENT DATE                                2008-06-04T00:00:00  \n",
              "CONDITIONAL APPROVAL                                          N  \n",
              "LICENSE TERM START DATE                     2008-05-16T00:00:00  \n",
              "LICENSE TERM EXPIRATION DATE                2010-05-15T00:00:00  \n",
              "LICENSE APPROVED FOR ISSUANCE               2008-06-04T00:00:00  \n",
              "DATE ISSUED                                 2008-06-05T00:00:00  \n",
              "LICENSE STATUS CHANGE DATE                                  NaN  \n",
              "SSA                                                         NaN  \n",
              "LATITUDE                                                    NaN  \n",
              "LONGITUDE                                                   NaN  \n",
              "LOCATION                                                    NaN  \n",
              "LICENSE STATUS                                              AAI  "
            ],
            "text/html": [
              "\n",
              "  <div id=\"df-046478bc-d76e-4522-9fe7-73015085cbea\">\n",
              "    <div class=\"colab-df-container\">\n",
              "      <div>\n",
              "<style scoped>\n",
              "    .dataframe tbody tr th:only-of-type {\n",
              "        vertical-align: middle;\n",
              "    }\n",
              "\n",
              "    .dataframe tbody tr th {\n",
              "        vertical-align: top;\n",
              "    }\n",
              "\n",
              "    .dataframe thead th {\n",
              "        text-align: right;\n",
              "    }\n",
              "</style>\n",
              "<table border=\"1\" class=\"dataframe\">\n",
              "  <thead>\n",
              "    <tr style=\"text-align: right;\">\n",
              "      <th></th>\n",
              "      <th>0</th>\n",
              "      <th>1</th>\n",
              "      <th>2</th>\n",
              "      <th>3</th>\n",
              "      <th>4</th>\n",
              "    </tr>\n",
              "  </thead>\n",
              "  <tbody>\n",
              "    <tr>\n",
              "      <th>ID</th>\n",
              "      <td>35342-20020816</td>\n",
              "      <td>1358463-20051116</td>\n",
              "      <td>1980233-20090722</td>\n",
              "      <td>1476582-20040211</td>\n",
              "      <td>1141408-20080516</td>\n",
              "    </tr>\n",
              "    <tr>\n",
              "      <th>LICENSE ID</th>\n",
              "      <td>1256593</td>\n",
              "      <td>1639294</td>\n",
              "      <td>1980233</td>\n",
              "      <td>1476582</td>\n",
              "      <td>1896750</td>\n",
              "    </tr>\n",
              "    <tr>\n",
              "      <th>ACCOUNT NUMBER</th>\n",
              "      <td>32811</td>\n",
              "      <td>262311</td>\n",
              "      <td>345008</td>\n",
              "      <td>273121</td>\n",
              "      <td>213785</td>\n",
              "    </tr>\n",
              "    <tr>\n",
              "      <th>SITE NUMBER</th>\n",
              "      <td>1</td>\n",
              "      <td>29</td>\n",
              "      <td>1</td>\n",
              "      <td>1</td>\n",
              "      <td>1</td>\n",
              "    </tr>\n",
              "    <tr>\n",
              "      <th>LEGAL NAME</th>\n",
              "      <td>CARMEN CAHUE</td>\n",
              "      <td>ISLA TROPICAL, INC.</td>\n",
              "      <td>DJS REMODELING</td>\n",
              "      <td>ALL-BRY CONSTRUCTION CO.</td>\n",
              "      <td>MCDONOUGH MECHANICAL SERVICE</td>\n",
              "    </tr>\n",
              "    <tr>\n",
              "      <th>DOING BUSINESS AS NAME</th>\n",
              "      <td>CLAUDIA'S BRIDAL SHOP</td>\n",
              "      <td>ISLA TROPICAL</td>\n",
              "      <td>DJS REMODELING, INC.</td>\n",
              "      <td>ALL-BRY CONSTRUCTION CO.</td>\n",
              "      <td>MCDONOUGH MECHANICAL SERVICE</td>\n",
              "    </tr>\n",
              "    <tr>\n",
              "      <th>ADDRESS</th>\n",
              "      <td>2625 S CENTRAL PARK AVE  1</td>\n",
              "      <td>2825 W MONTROSE AVE</td>\n",
              "      <td>1605  CLAVEY RD 1</td>\n",
              "      <td>8  NORTH TRAIL</td>\n",
              "      <td>4081  JOSEPH DR</td>\n",
              "    </tr>\n",
              "    <tr>\n",
              "      <th>CITY</th>\n",
              "      <td>CHICAGO</td>\n",
              "      <td>CHICAGO</td>\n",
              "      <td>HIGHLAND</td>\n",
              "      <td>LEMONT</td>\n",
              "      <td>WAUKEGAN</td>\n",
              "    </tr>\n",
              "    <tr>\n",
              "      <th>STATE</th>\n",
              "      <td>IL</td>\n",
              "      <td>IL</td>\n",
              "      <td>IL</td>\n",
              "      <td>IL</td>\n",
              "      <td>IL</td>\n",
              "    </tr>\n",
              "    <tr>\n",
              "      <th>ZIP CODE</th>\n",
              "      <td>60623.0</td>\n",
              "      <td>60618</td>\n",
              "      <td>60035</td>\n",
              "      <td>60439</td>\n",
              "      <td>60087</td>\n",
              "    </tr>\n",
              "    <tr>\n",
              "      <th>WARD</th>\n",
              "      <td>22.0</td>\n",
              "      <td>33.0</td>\n",
              "      <td>NaN</td>\n",
              "      <td>NaN</td>\n",
              "      <td>NaN</td>\n",
              "    </tr>\n",
              "    <tr>\n",
              "      <th>PRECINCT</th>\n",
              "      <td>28.0</td>\n",
              "      <td>23.0</td>\n",
              "      <td>NaN</td>\n",
              "      <td>NaN</td>\n",
              "      <td>NaN</td>\n",
              "    </tr>\n",
              "    <tr>\n",
              "      <th>WARD PRECINCT</th>\n",
              "      <td>22-28</td>\n",
              "      <td>33-23</td>\n",
              "      <td>NaN</td>\n",
              "      <td>NaN</td>\n",
              "      <td>NaN</td>\n",
              "    </tr>\n",
              "    <tr>\n",
              "      <th>POLICE DISTRICT</th>\n",
              "      <td>10.0</td>\n",
              "      <td>17.0</td>\n",
              "      <td>NaN</td>\n",
              "      <td>NaN</td>\n",
              "      <td>NaN</td>\n",
              "    </tr>\n",
              "    <tr>\n",
              "      <th>LICENSE CODE</th>\n",
              "      <td>1010</td>\n",
              "      <td>1315</td>\n",
              "      <td>1011</td>\n",
              "      <td>1010</td>\n",
              "      <td>1010</td>\n",
              "    </tr>\n",
              "    <tr>\n",
              "      <th>LICENSE DESCRIPTION</th>\n",
              "      <td>Limited Business License</td>\n",
              "      <td>Mobile Food Dispenser</td>\n",
              "      <td>Home Repair</td>\n",
              "      <td>Limited Business License</td>\n",
              "      <td>Limited Business License</td>\n",
              "    </tr>\n",
              "    <tr>\n",
              "      <th>LICENSE NUMBER</th>\n",
              "      <td>35342.0</td>\n",
              "      <td>1358463.0</td>\n",
              "      <td>1980233.0</td>\n",
              "      <td>1476582.0</td>\n",
              "      <td>1141408.0</td>\n",
              "    </tr>\n",
              "    <tr>\n",
              "      <th>APPLICATION TYPE</th>\n",
              "      <td>RENEW</td>\n",
              "      <td>RENEW</td>\n",
              "      <td>ISSUE</td>\n",
              "      <td>ISSUE</td>\n",
              "      <td>RENEW</td>\n",
              "    </tr>\n",
              "    <tr>\n",
              "      <th>APPLICATION CREATED DATE</th>\n",
              "      <td>NaN</td>\n",
              "      <td>NaN</td>\n",
              "      <td>2009-06-29T00:00:00</td>\n",
              "      <td>2004-02-10T00:00:00</td>\n",
              "      <td>NaN</td>\n",
              "    </tr>\n",
              "    <tr>\n",
              "      <th>APPLICATION REQUIREMENTS COMPLETE</th>\n",
              "      <td>2002-06-28T00:00:00</td>\n",
              "      <td>2005-09-22T00:00:00</td>\n",
              "      <td>2009-07-22T00:00:00</td>\n",
              "      <td>2004-02-10T00:00:00</td>\n",
              "      <td>2008-03-24T00:00:00</td>\n",
              "    </tr>\n",
              "    <tr>\n",
              "      <th>PAYMENT DATE</th>\n",
              "      <td>2002-08-21T00:00:00</td>\n",
              "      <td>2005-11-03T00:00:00</td>\n",
              "      <td>2009-07-22T00:00:00</td>\n",
              "      <td>2004-02-10T00:00:00</td>\n",
              "      <td>2008-06-04T00:00:00</td>\n",
              "    </tr>\n",
              "    <tr>\n",
              "      <th>CONDITIONAL APPROVAL</th>\n",
              "      <td>N</td>\n",
              "      <td>N</td>\n",
              "      <td>N</td>\n",
              "      <td>N</td>\n",
              "      <td>N</td>\n",
              "    </tr>\n",
              "    <tr>\n",
              "      <th>LICENSE TERM START DATE</th>\n",
              "      <td>2002-08-16T00:00:00</td>\n",
              "      <td>2005-11-16T00:00:00</td>\n",
              "      <td>2009-07-22T00:00:00</td>\n",
              "      <td>2004-02-11T00:00:00</td>\n",
              "      <td>2008-05-16T00:00:00</td>\n",
              "    </tr>\n",
              "    <tr>\n",
              "      <th>LICENSE TERM EXPIRATION DATE</th>\n",
              "      <td>2003-08-15T00:00:00</td>\n",
              "      <td>2006-11-15T00:00:00</td>\n",
              "      <td>2011-07-15T00:00:00</td>\n",
              "      <td>2005-02-15T00:00:00</td>\n",
              "      <td>2010-05-15T00:00:00</td>\n",
              "    </tr>\n",
              "    <tr>\n",
              "      <th>LICENSE APPROVED FOR ISSUANCE</th>\n",
              "      <td>2002-08-21T00:00:00</td>\n",
              "      <td>2006-04-05T00:00:00</td>\n",
              "      <td>2009-07-22T00:00:00</td>\n",
              "      <td>2004-02-10T00:00:00</td>\n",
              "      <td>2008-06-04T00:00:00</td>\n",
              "    </tr>\n",
              "    <tr>\n",
              "      <th>DATE ISSUED</th>\n",
              "      <td>2006-04-11T00:00:00</td>\n",
              "      <td>2006-06-12T00:00:00</td>\n",
              "      <td>2009-07-22T00:00:00</td>\n",
              "      <td>2004-02-11T00:00:00</td>\n",
              "      <td>2008-06-05T00:00:00</td>\n",
              "    </tr>\n",
              "    <tr>\n",
              "      <th>LICENSE STATUS CHANGE DATE</th>\n",
              "      <td>NaN</td>\n",
              "      <td>2006-06-15T00:00:00</td>\n",
              "      <td>NaN</td>\n",
              "      <td>NaN</td>\n",
              "      <td>NaN</td>\n",
              "    </tr>\n",
              "    <tr>\n",
              "      <th>SSA</th>\n",
              "      <td>25.0</td>\n",
              "      <td>60.0</td>\n",
              "      <td>NaN</td>\n",
              "      <td>NaN</td>\n",
              "      <td>NaN</td>\n",
              "    </tr>\n",
              "    <tr>\n",
              "      <th>LATITUDE</th>\n",
              "      <td>41.843613</td>\n",
              "      <td>41.961132</td>\n",
              "      <td>NaN</td>\n",
              "      <td>NaN</td>\n",
              "      <td>NaN</td>\n",
              "    </tr>\n",
              "    <tr>\n",
              "      <th>LONGITUDE</th>\n",
              "      <td>-87.714618</td>\n",
              "      <td>-87.699626</td>\n",
              "      <td>NaN</td>\n",
              "      <td>NaN</td>\n",
              "      <td>NaN</td>\n",
              "    </tr>\n",
              "    <tr>\n",
              "      <th>LOCATION</th>\n",
              "      <td>{'latitude': '41.843612879431845', 'longitude'...</td>\n",
              "      <td>{'latitude': '41.96113244107215', 'longitude':...</td>\n",
              "      <td>NaN</td>\n",
              "      <td>NaN</td>\n",
              "      <td>NaN</td>\n",
              "    </tr>\n",
              "    <tr>\n",
              "      <th>LICENSE STATUS</th>\n",
              "      <td>AAI</td>\n",
              "      <td>AAC</td>\n",
              "      <td>AAI</td>\n",
              "      <td>AAI</td>\n",
              "      <td>AAI</td>\n",
              "    </tr>\n",
              "  </tbody>\n",
              "</table>\n",
              "</div>\n",
              "      <button class=\"colab-df-convert\" onclick=\"convertToInteractive('df-046478bc-d76e-4522-9fe7-73015085cbea')\"\n",
              "              title=\"Convert this dataframe to an interactive table.\"\n",
              "              style=\"display:none;\">\n",
              "        \n",
              "  <svg xmlns=\"http://www.w3.org/2000/svg\" height=\"24px\"viewBox=\"0 0 24 24\"\n",
              "       width=\"24px\">\n",
              "    <path d=\"M0 0h24v24H0V0z\" fill=\"none\"/>\n",
              "    <path d=\"M18.56 5.44l.94 2.06.94-2.06 2.06-.94-2.06-.94-.94-2.06-.94 2.06-2.06.94zm-11 1L8.5 8.5l.94-2.06 2.06-.94-2.06-.94L8.5 2.5l-.94 2.06-2.06.94zm10 10l.94 2.06.94-2.06 2.06-.94-2.06-.94-.94-2.06-.94 2.06-2.06.94z\"/><path d=\"M17.41 7.96l-1.37-1.37c-.4-.4-.92-.59-1.43-.59-.52 0-1.04.2-1.43.59L10.3 9.45l-7.72 7.72c-.78.78-.78 2.05 0 2.83L4 21.41c.39.39.9.59 1.41.59.51 0 1.02-.2 1.41-.59l7.78-7.78 2.81-2.81c.8-.78.8-2.07 0-2.86zM5.41 20L4 18.59l7.72-7.72 1.47 1.35L5.41 20z\"/>\n",
              "  </svg>\n",
              "      </button>\n",
              "      \n",
              "  <style>\n",
              "    .colab-df-container {\n",
              "      display:flex;\n",
              "      flex-wrap:wrap;\n",
              "      gap: 12px;\n",
              "    }\n",
              "\n",
              "    .colab-df-convert {\n",
              "      background-color: #E8F0FE;\n",
              "      border: none;\n",
              "      border-radius: 50%;\n",
              "      cursor: pointer;\n",
              "      display: none;\n",
              "      fill: #1967D2;\n",
              "      height: 32px;\n",
              "      padding: 0 0 0 0;\n",
              "      width: 32px;\n",
              "    }\n",
              "\n",
              "    .colab-df-convert:hover {\n",
              "      background-color: #E2EBFA;\n",
              "      box-shadow: 0px 1px 2px rgba(60, 64, 67, 0.3), 0px 1px 3px 1px rgba(60, 64, 67, 0.15);\n",
              "      fill: #174EA6;\n",
              "    }\n",
              "\n",
              "    [theme=dark] .colab-df-convert {\n",
              "      background-color: #3B4455;\n",
              "      fill: #D2E3FC;\n",
              "    }\n",
              "\n",
              "    [theme=dark] .colab-df-convert:hover {\n",
              "      background-color: #434B5C;\n",
              "      box-shadow: 0px 1px 3px 1px rgba(0, 0, 0, 0.15);\n",
              "      filter: drop-shadow(0px 1px 2px rgba(0, 0, 0, 0.3));\n",
              "      fill: #FFFFFF;\n",
              "    }\n",
              "  </style>\n",
              "\n",
              "      <script>\n",
              "        const buttonEl =\n",
              "          document.querySelector('#df-046478bc-d76e-4522-9fe7-73015085cbea button.colab-df-convert');\n",
              "        buttonEl.style.display =\n",
              "          google.colab.kernel.accessAllowed ? 'block' : 'none';\n",
              "\n",
              "        async function convertToInteractive(key) {\n",
              "          const element = document.querySelector('#df-046478bc-d76e-4522-9fe7-73015085cbea');\n",
              "          const dataTable =\n",
              "            await google.colab.kernel.invokeFunction('convertToInteractive',\n",
              "                                                     [key], {});\n",
              "          if (!dataTable) return;\n",
              "\n",
              "          const docLinkHtml = 'Like what you see? Visit the ' +\n",
              "            '<a target=\"_blank\" href=https://colab.research.google.com/notebooks/data_table.ipynb>data table notebook</a>'\n",
              "            + ' to learn more about interactive tables.';\n",
              "          element.innerHTML = '';\n",
              "          dataTable['output_type'] = 'display_data';\n",
              "          await google.colab.output.renderOutput(dataTable, element);\n",
              "          const docLink = document.createElement('div');\n",
              "          docLink.innerHTML = docLinkHtml;\n",
              "          element.appendChild(docLink);\n",
              "        }\n",
              "      </script>\n",
              "    </div>\n",
              "  </div>\n",
              "  "
            ]
          },
          "metadata": {}
        }
      ],
      "metadata": {
        "colab": {
          "base_uri": "https://localhost:8080/",
          "height": 1000
        },
        "id": "-dVJCZqmF37J",
        "outputId": "2690930b-e8d7-4c27-96ee-567e1db5ccb9"
      }
    },
    {
      "cell_type": "code",
      "execution_count": 5,
      "source": [
        "# change the columns name\n",
        "new_col_name = [col.replace(\" \",\"_\").lower() for col in df.columns]\n",
        "df.columns = new_col_name"
      ],
      "outputs": [],
      "metadata": {
        "id": "12abYoW6F37K"
      }
    },
    {
      "cell_type": "markdown",
      "source": [
        "## Variable Description\n",
        "\n",
        "<b>Dependent Variable</b>   <br>\n",
        "&nbsp;&nbsp;&nbsp;&nbsp;    1. AAI - License status is issued <br>\n",
        "&nbsp;&nbsp;&nbsp;&nbsp;    2. AAC - License status is cancelled <br>\n",
        "&nbsp;&nbsp;&nbsp;&nbsp;    3. REV - License status is revoked <br>\n",
        "&nbsp;&nbsp;&nbsp;&nbsp;    4. REA - License status is revoked and appealed <br>\n",
        "&nbsp;&nbsp;&nbsp;&nbsp;    5. INQ - License status is in enquiry <br>\n",
        "    <br>\n",
        "<b>Independent Variable</b> : <br>\n",
        "&nbsp;&nbsp;&nbsp;&nbsp;    Timeline of the application status <br>\n",
        "&nbsp;&nbsp;&nbsp;&nbsp;    Type of business <br>\n",
        "&nbsp;&nbsp;&nbsp;&nbsp;    Location details of the business <br>\n",
        "&nbsp;&nbsp;&nbsp;&nbsp;    Payment details <br>\n",
        "_______________________________________________________________________________________________________________________________"
      ],
      "metadata": {
        "id": "DKMOlIWzF37L"
      }
    },
    {
      "cell_type": "code",
      "execution_count": 6,
      "source": [
        "df.columns"
      ],
      "outputs": [
        {
          "output_type": "execute_result",
          "data": {
            "text/plain": [
              "Index(['id', 'license_id', 'account_number', 'site_number', 'legal_name',\n",
              "       'doing_business_as_name', 'address', 'city', 'state', 'zip_code',\n",
              "       'ward', 'precinct', 'ward_precinct', 'police_district', 'license_code',\n",
              "       'license_description', 'license_number', 'application_type',\n",
              "       'application_created_date', 'application_requirements_complete',\n",
              "       'payment_date', 'conditional_approval', 'license_term_start_date',\n",
              "       'license_term_expiration_date', 'license_approved_for_issuance',\n",
              "       'date_issued', 'license_status_change_date', 'ssa', 'latitude',\n",
              "       'longitude', 'location', 'license_status'],\n",
              "      dtype='object')"
            ]
          },
          "metadata": {},
          "execution_count": 6
        }
      ],
      "metadata": {
        "colab": {
          "base_uri": "https://localhost:8080/"
        },
        "id": "YKqcrCWGF37M",
        "outputId": "81ad5382-116b-4dba-c64c-11de1ee5cd4b"
      }
    },
    {
      "cell_type": "markdown",
      "source": [
        "## Data Cleansing\n",
        "\n",
        "1. Missing Values - lot of missing data for particular variables\n",
        "2. Unique Data - id (no meaning)\n",
        "3. Data leakage - The AAI alone doesn't have licesnse status change value (as the license are never revoked/cancelled) \n"
      ],
      "metadata": {
        "id": "35-FCjjUF37N"
      }
    },
    {
      "cell_type": "code",
      "execution_count": 7,
      "source": [
        "df.isnull().sum()"
      ],
      "outputs": [
        {
          "output_type": "execute_result",
          "data": {
            "text/plain": [
              "id                                       0\n",
              "license_id                               0\n",
              "account_number                           0\n",
              "site_number                              0\n",
              "legal_name                               0\n",
              "doing_business_as_name                   1\n",
              "address                                  0\n",
              "city                                     0\n",
              "state                                    0\n",
              "zip_code                                31\n",
              "ward                                 49701\n",
              "precinct                             56701\n",
              "ward_precinct                        49700\n",
              "police_district                      54012\n",
              "license_code                             0\n",
              "license_description                      0\n",
              "license_number                           1\n",
              "application_type                         0\n",
              "application_created_date             64660\n",
              "application_requirements_complete      214\n",
              "payment_date                          1289\n",
              "conditional_approval                     0\n",
              "license_term_start_date                228\n",
              "license_term_expiration_date            18\n",
              "license_approved_for_issuance         6789\n",
              "date_issued                              0\n",
              "license_status_change_date           55400\n",
              "ssa                                  76446\n",
              "latitude                             47246\n",
              "longitude                            47246\n",
              "location                             47246\n",
              "license_status                           0\n",
              "dtype: int64"
            ]
          },
          "metadata": {},
          "execution_count": 7
        }
      ],
      "metadata": {
        "colab": {
          "base_uri": "https://localhost:8080/"
        },
        "id": "N4zLAIcSF37O",
        "outputId": "101c5039-4ab7-4d65-a83b-cef022ae59db"
      }
    },
    {
      "cell_type": "code",
      "execution_count": 8,
      "source": [
        "# Drop columns which are not relevent for the prediction / too many missing values\n",
        "drop_col_list = [\"id\",\"license_id\",\"ssa\",\"location\",\"application_created_date\",\"account_number\",\"address\"]\n",
        "df = df.drop(drop_col_list, axis=1)"
      ],
      "outputs": [],
      "metadata": {
        "id": "VIdSJqUPF37O"
      }
    },
    {
      "cell_type": "code",
      "execution_count": 9,
      "source": [
        "df[\"license_status_change\"] = np.where(df.license_status_change_date.isnull(),1,0)"
      ],
      "outputs": [],
      "metadata": {
        "id": "2DItZuCuF37P"
      }
    },
    {
      "cell_type": "code",
      "execution_count": null,
      "source": [
        "pd.crosstab(df.license_status_change,df.license_status)"
      ],
      "outputs": [
        {
          "output_type": "execute_result",
          "data": {
            "text/html": [
              "<div>\n",
              "<style scoped>\n",
              "    .dataframe tbody tr th:only-of-type {\n",
              "        vertical-align: middle;\n",
              "    }\n",
              "\n",
              "    .dataframe tbody tr th {\n",
              "        vertical-align: top;\n",
              "    }\n",
              "\n",
              "    .dataframe thead th {\n",
              "        text-align: right;\n",
              "    }\n",
              "</style>\n",
              "<table border=\"1\" class=\"dataframe\">\n",
              "  <thead>\n",
              "    <tr style=\"text-align: right;\">\n",
              "      <th>license_status</th>\n",
              "      <th>AAC</th>\n",
              "      <th>AAI</th>\n",
              "      <th>INQ</th>\n",
              "      <th>REA</th>\n",
              "      <th>REV</th>\n",
              "    </tr>\n",
              "    <tr>\n",
              "      <th>license_status_change</th>\n",
              "      <th></th>\n",
              "      <th></th>\n",
              "      <th></th>\n",
              "      <th></th>\n",
              "      <th></th>\n",
              "    </tr>\n",
              "  </thead>\n",
              "  <tbody>\n",
              "    <tr>\n",
              "      <th>0</th>\n",
              "      <td>30200</td>\n",
              "      <td>0</td>\n",
              "      <td>2</td>\n",
              "      <td>3</td>\n",
              "      <td>290</td>\n",
              "    </tr>\n",
              "    <tr>\n",
              "      <th>1</th>\n",
              "      <td>0</td>\n",
              "      <td>55400</td>\n",
              "      <td>0</td>\n",
              "      <td>0</td>\n",
              "      <td>0</td>\n",
              "    </tr>\n",
              "  </tbody>\n",
              "</table>\n",
              "</div>"
            ],
            "text/plain": [
              "license_status           AAC    AAI  INQ  REA  REV\n",
              "license_status_change                             \n",
              "0                      30200      0    2    3  290\n",
              "1                          0  55400    0    0    0"
            ]
          },
          "metadata": {},
          "execution_count": 9
        }
      ],
      "metadata": {
        "id": "clhS5thSF37Q",
        "outputId": "ea9b8139-4a9c-4f38-8103-c0dcf8c8930b"
      }
    },
    {
      "cell_type": "markdown",
      "source": [
        "## Data Transformation\n",
        "1. Timeline creation\n",
        "2. Encoding\n",
        "3. New Feature"
      ],
      "metadata": {
        "id": "TZxhqSYhF37Q"
      }
    },
    {
      "cell_type": "code",
      "execution_count": 10,
      "source": [
        "# convert string object into date\n",
        "df.application_requirements_complete = pd.DatetimeIndex(df.application_requirements_complete)\n",
        "df.payment_date = pd.DatetimeIndex(df.payment_date)\n",
        "df.license_term_start_date = pd.DatetimeIndex(df.license_term_start_date)\n",
        "df.license_term_expiration_date = pd.DatetimeIndex(df.license_term_expiration_date)\n",
        "df.license_approved_for_issuance = pd.DatetimeIndex(df.license_approved_for_issuance)\n",
        "df.date_issued = pd.DatetimeIndex(df.date_issued)"
      ],
      "outputs": [],
      "metadata": {
        "id": "Do6wEDrjF37Q"
      }
    },
    {
      "cell_type": "code",
      "execution_count": 11,
      "source": [
        "# Find no.of days btw different application status date\n",
        "df[\"completion_to_start\"] = (df.license_term_start_date - df.application_requirements_complete).dt.days\n",
        "df[\"start_to_expiry\"] =  (df.license_term_expiration_date - df.license_term_start_date).dt.days\n",
        "df[\"approval_to_issuance\"] = (df.date_issued - df.license_approved_for_issuance).dt.days\n",
        "df[\"completion_to_payment\"] = (df.payment_date - df.application_requirements_complete).dt.days\n",
        "\n",
        "df[\"presence_of_enquiry_details\"] = np.where(df.ward.isnull() | df.ward_precinct.isnull() | df.police_district | df.precinct , 0 ,1 )\n",
        "\n",
        "df[\"target\"] = df[['license_status']].apply(lambda col:pd.Categorical(col).codes)"
      ],
      "outputs": [],
      "metadata": {
        "id": "O1pbxsRxF37R"
      }
    },
    {
      "cell_type": "code",
      "execution_count": 12,
      "source": [
        "df.city.unique()"
      ],
      "outputs": [
        {
          "output_type": "execute_result",
          "data": {
            "text/plain": [
              "array(['CHICAGO', 'HIGHLAND', 'LEMONT', ..., 'ABERDEEN', 'PENSACOLA',\n",
              "       'MACHESNEY PARK'], dtype=object)"
            ]
          },
          "metadata": {},
          "execution_count": 12
        }
      ],
      "metadata": {
        "colab": {
          "base_uri": "https://localhost:8080/"
        },
        "id": "TkF_utE_F37R",
        "outputId": "e1006912-9954-415b-f5d2-ceb79ada9ee2"
      }
    },
    {
      "cell_type": "code",
      "execution_count": 13,
      "source": [
        "enc=ce.OneHotEncoder().fit(df.target.astype(str))\n",
        "y_onehot=enc.transform(df.target.astype(str))\n",
        "print(y_onehot.columns)"
      ],
      "outputs": [
        {
          "output_type": "stream",
          "name": "stdout",
          "text": [
            "Index(['target_1', 'target_2', 'target_3', 'target_4', 'target_5'], dtype='object')\n"
          ]
        }
      ],
      "metadata": {
        "colab": {
          "base_uri": "https://localhost:8080/"
        },
        "id": "AHeR0EPKF37S",
        "outputId": "6bf0d7c1-3149-4e81-fa4e-d4a4cd748047"
      }
    },
    {
      "cell_type": "markdown",
      "source": [
        "## Target Encoding"
      ],
      "metadata": {
        "id": "VNAod9gpF37S"
      }
    },
    {
      "cell_type": "code",
      "execution_count": 14,
      "source": [
        "enc=ce.OneHotEncoder().fit(df.target.astype(str))\n",
        "y_onehot=enc.transform(df.target.astype(str))\n",
        "\n",
        "class_names=y_onehot.columns\n",
        "for class_ in class_names:\n",
        "  enc=ce.TargetEncoder(smoothing=0)\n",
        "  temp = enc.fit_transform(df[[\"license_description\",\"state\",\"city\"]],y_onehot[class_])\n",
        "  temp.columns=[str(x)+'_'+str(class_) for x in temp.columns]\n",
        "  df = pd.concat([df,temp],axis=1)"
      ],
      "outputs": [
        {
          "output_type": "stream",
          "name": "stderr",
          "text": [
            "/usr/local/lib/python3.7/dist-packages/category_encoders/target_encoder.py:94: FutureWarning: Default parameter min_samples_leaf will change in version 2.6.See https://github.com/scikit-learn-contrib/category_encoders/issues/327\n",
            "  category=FutureWarning)\n"
          ]
        }
      ],
      "metadata": {
        "colab": {
          "base_uri": "https://localhost:8080/"
        },
        "id": "9RawSkS-F37S",
        "outputId": "4fbe9b6f-335e-4681-91f2-cd267e83e38e"
      }
    },
    {
      "cell_type": "markdown",
      "source": [
        "### Class Imbalance "
      ],
      "metadata": {
        "id": "-uSUkT3HF37T"
      }
    },
    {
      "cell_type": "code",
      "execution_count": 15,
      "source": [
        "df.license_status.value_counts()"
      ],
      "outputs": [
        {
          "output_type": "execute_result",
          "data": {
            "text/plain": [
              "AAI    55400\n",
              "AAC    30200\n",
              "REV      290\n",
              "REA        3\n",
              "INQ        2\n",
              "Name: license_status, dtype: int64"
            ]
          },
          "metadata": {},
          "execution_count": 15
        }
      ],
      "metadata": {
        "colab": {
          "base_uri": "https://localhost:8080/"
        },
        "id": "uWyV_QVYF37U",
        "outputId": "c3596f37-5e93-47b5-ec28-72faffc32347"
      }
    },
    {
      "cell_type": "code",
      "execution_count": 16,
      "source": [
        "df.license_status.value_counts(normalize=True).mul(100).round(3).astype(str) + '%'"
      ],
      "outputs": [
        {
          "output_type": "execute_result",
          "data": {
            "text/plain": [
              "AAI    64.497%\n",
              "AAC    35.159%\n",
              "REV     0.338%\n",
              "REA     0.003%\n",
              "INQ     0.002%\n",
              "Name: license_status, dtype: object"
            ]
          },
          "metadata": {},
          "execution_count": 16
        }
      ],
      "metadata": {
        "colab": {
          "base_uri": "https://localhost:8080/"
        },
        "id": "SnSfQf2gF37W",
        "outputId": "a2aec6f0-1690-4787-e62c-6e6e102f0d4f"
      }
    },
    {
      "cell_type": "markdown",
      "source": [
        "## over sampling/under sampling"
      ],
      "metadata": {
        "id": "20unVfdOF37X"
      }
    },
    {
      "cell_type": "code",
      "execution_count": 17,
      "source": [
        "np.sort(df.target.unique()).tolist()"
      ],
      "outputs": [
        {
          "output_type": "execute_result",
          "data": {
            "text/plain": [
              "[0, 1, 2, 3, 4]"
            ]
          },
          "metadata": {},
          "execution_count": 17
        }
      ],
      "metadata": {
        "colab": {
          "base_uri": "https://localhost:8080/"
        },
        "id": "uxS5P-SAF37X",
        "outputId": "533be55f-a1eb-46a0-f04f-d5ebaa5f4be3"
      }
    },
    {
      "cell_type": "code",
      "execution_count": 19,
      "source": [
        "# Undersampling\n",
        "df_0 = df[df.target==0].sample(frac=0.3,replace=False)\n",
        "df_1 = df[df.target==1].sample(frac=0.3,replace=False)\n",
        "# oversamplig\n",
        "df_2 = df[df.target==2].sample(frac=200,replace=True)\n",
        "df_3 = df[df.target==3].sample(frac=100,replace=True)\n",
        "df_4 = df[df.target==4].sample(frac=2,replace=True)\n",
        "\n",
        "sampled_df = pd.concat([df_0,df_1,df_2,df_3,df_4])\n",
        "\n",
        "sampled_df.target.value_counts()"
      ],
      "outputs": [
        {
          "output_type": "execute_result",
          "data": {
            "text/plain": [
              "1    16620\n",
              "0     9060\n",
              "4      580\n",
              "2      400\n",
              "3      300\n",
              "Name: target, dtype: int64"
            ]
          },
          "metadata": {},
          "execution_count": 19
        }
      ],
      "metadata": {
        "colab": {
          "base_uri": "https://localhost:8080/"
        },
        "id": "njtWlueGF37Y",
        "outputId": "20533379-f102-436e-f4ca-f88e82396b04"
      }
    },
    {
      "cell_type": "code",
      "source": [
        "sampled_df.head()"
      ],
      "metadata": {
        "colab": {
          "base_uri": "https://localhost:8080/",
          "height": 438
        },
        "id": "CE3Ssa7qJSxZ",
        "outputId": "2dcefad6-dad1-4f19-c68d-966e74b58bbf"
      },
      "execution_count": 21,
      "outputs": [
        {
          "output_type": "execute_result",
          "data": {
            "text/plain": [
              "       site_number                               legal_name  \\\n",
              "8055             1                            PPL Group LLC   \n",
              "35103            1  ANATOMICAL GIFT ASSOCIATION OF ILLINOIS   \n",
              "81784            1            EXQUISITE GLASS WORK CO. INC.   \n",
              "84140            3                           Y'LONN  PARKER   \n",
              "43795            1                          LUIS I. GODINEZ   \n",
              "\n",
              "              doing_business_as_name        city state zip_code  ward  \\\n",
              "8055                   PPL Group LLC  NORTHBROOK    IL    60062   NaN   \n",
              "35103   ANATOMICAL GIFT ASSOC. OF IL     CHICAGO    IL    60612  28.0   \n",
              "81784  EXQUISITE GLASS WORK CO. INC.      CICERO    IL    60804   NaN   \n",
              "84140                 Y'LONN SALON 2     CHICAGO    IL  60616.0   3.0   \n",
              "43795       FAMILY HEATING & COOLING     CHICAGO    IL    60639  31.0   \n",
              "\n",
              "       precinct ward_precinct  police_district  ...  city_target_2  \\\n",
              "8055        NaN           NaN              NaN  ...       0.100787   \n",
              "35103      10.0         28-10             12.0  ...       0.702863   \n",
              "81784       NaN           NaN              NaN  ...       0.108974   \n",
              "84140       3.0           3-3              1.0  ...       0.702863   \n",
              "43795      36.0         31-36             25.0  ...       0.702863   \n",
              "\n",
              "      license_description_target_3  state_target_3 city_target_3  \\\n",
              "8055                      0.000000          0.0036      0.000000   \n",
              "35103                     0.001118          0.0036      0.007865   \n",
              "81784                     0.000000          0.0036      0.000000   \n",
              "84140                     0.001118          0.0036      0.007865   \n",
              "43795                     0.000000          0.0036      0.007865   \n",
              "\n",
              "      license_description_target_4 state_target_4 city_target_4  \\\n",
              "8055                           0.0       0.000037      0.000000   \n",
              "35103                          0.0       0.000037      0.000082   \n",
              "81784                          0.0       0.000037      0.000000   \n",
              "84140                          0.0       0.000037      0.000082   \n",
              "43795                          0.0       0.000037      0.000082   \n",
              "\n",
              "      license_description_target_5 state_target_5 city_target_5  \n",
              "8055                      0.000000       0.000025           0.0  \n",
              "35103                     0.000020       0.000025           0.0  \n",
              "81784                     0.000094       0.000025           0.0  \n",
              "84140                     0.000020       0.000025           0.0  \n",
              "43795                     0.000094       0.000025           0.0  \n",
              "\n",
              "[5 rows x 47 columns]"
            ],
            "text/html": [
              "\n",
              "  <div id=\"df-502a3cd0-2ce3-443c-9816-727b94b547b9\">\n",
              "    <div class=\"colab-df-container\">\n",
              "      <div>\n",
              "<style scoped>\n",
              "    .dataframe tbody tr th:only-of-type {\n",
              "        vertical-align: middle;\n",
              "    }\n",
              "\n",
              "    .dataframe tbody tr th {\n",
              "        vertical-align: top;\n",
              "    }\n",
              "\n",
              "    .dataframe thead th {\n",
              "        text-align: right;\n",
              "    }\n",
              "</style>\n",
              "<table border=\"1\" class=\"dataframe\">\n",
              "  <thead>\n",
              "    <tr style=\"text-align: right;\">\n",
              "      <th></th>\n",
              "      <th>site_number</th>\n",
              "      <th>legal_name</th>\n",
              "      <th>doing_business_as_name</th>\n",
              "      <th>city</th>\n",
              "      <th>state</th>\n",
              "      <th>zip_code</th>\n",
              "      <th>ward</th>\n",
              "      <th>precinct</th>\n",
              "      <th>ward_precinct</th>\n",
              "      <th>police_district</th>\n",
              "      <th>...</th>\n",
              "      <th>city_target_2</th>\n",
              "      <th>license_description_target_3</th>\n",
              "      <th>state_target_3</th>\n",
              "      <th>city_target_3</th>\n",
              "      <th>license_description_target_4</th>\n",
              "      <th>state_target_4</th>\n",
              "      <th>city_target_4</th>\n",
              "      <th>license_description_target_5</th>\n",
              "      <th>state_target_5</th>\n",
              "      <th>city_target_5</th>\n",
              "    </tr>\n",
              "  </thead>\n",
              "  <tbody>\n",
              "    <tr>\n",
              "      <th>8055</th>\n",
              "      <td>1</td>\n",
              "      <td>PPL Group LLC</td>\n",
              "      <td>PPL Group LLC</td>\n",
              "      <td>NORTHBROOK</td>\n",
              "      <td>IL</td>\n",
              "      <td>60062</td>\n",
              "      <td>NaN</td>\n",
              "      <td>NaN</td>\n",
              "      <td>NaN</td>\n",
              "      <td>NaN</td>\n",
              "      <td>...</td>\n",
              "      <td>0.100787</td>\n",
              "      <td>0.000000</td>\n",
              "      <td>0.0036</td>\n",
              "      <td>0.000000</td>\n",
              "      <td>0.0</td>\n",
              "      <td>0.000037</td>\n",
              "      <td>0.000000</td>\n",
              "      <td>0.000000</td>\n",
              "      <td>0.000025</td>\n",
              "      <td>0.0</td>\n",
              "    </tr>\n",
              "    <tr>\n",
              "      <th>35103</th>\n",
              "      <td>1</td>\n",
              "      <td>ANATOMICAL GIFT ASSOCIATION OF ILLINOIS</td>\n",
              "      <td>ANATOMICAL GIFT ASSOC. OF IL</td>\n",
              "      <td>CHICAGO</td>\n",
              "      <td>IL</td>\n",
              "      <td>60612</td>\n",
              "      <td>28.0</td>\n",
              "      <td>10.0</td>\n",
              "      <td>28-10</td>\n",
              "      <td>12.0</td>\n",
              "      <td>...</td>\n",
              "      <td>0.702863</td>\n",
              "      <td>0.001118</td>\n",
              "      <td>0.0036</td>\n",
              "      <td>0.007865</td>\n",
              "      <td>0.0</td>\n",
              "      <td>0.000037</td>\n",
              "      <td>0.000082</td>\n",
              "      <td>0.000020</td>\n",
              "      <td>0.000025</td>\n",
              "      <td>0.0</td>\n",
              "    </tr>\n",
              "    <tr>\n",
              "      <th>81784</th>\n",
              "      <td>1</td>\n",
              "      <td>EXQUISITE GLASS WORK CO. INC.</td>\n",
              "      <td>EXQUISITE GLASS WORK CO. INC.</td>\n",
              "      <td>CICERO</td>\n",
              "      <td>IL</td>\n",
              "      <td>60804</td>\n",
              "      <td>NaN</td>\n",
              "      <td>NaN</td>\n",
              "      <td>NaN</td>\n",
              "      <td>NaN</td>\n",
              "      <td>...</td>\n",
              "      <td>0.108974</td>\n",
              "      <td>0.000000</td>\n",
              "      <td>0.0036</td>\n",
              "      <td>0.000000</td>\n",
              "      <td>0.0</td>\n",
              "      <td>0.000037</td>\n",
              "      <td>0.000000</td>\n",
              "      <td>0.000094</td>\n",
              "      <td>0.000025</td>\n",
              "      <td>0.0</td>\n",
              "    </tr>\n",
              "    <tr>\n",
              "      <th>84140</th>\n",
              "      <td>3</td>\n",
              "      <td>Y'LONN  PARKER</td>\n",
              "      <td>Y'LONN SALON 2</td>\n",
              "      <td>CHICAGO</td>\n",
              "      <td>IL</td>\n",
              "      <td>60616.0</td>\n",
              "      <td>3.0</td>\n",
              "      <td>3.0</td>\n",
              "      <td>3-3</td>\n",
              "      <td>1.0</td>\n",
              "      <td>...</td>\n",
              "      <td>0.702863</td>\n",
              "      <td>0.001118</td>\n",
              "      <td>0.0036</td>\n",
              "      <td>0.007865</td>\n",
              "      <td>0.0</td>\n",
              "      <td>0.000037</td>\n",
              "      <td>0.000082</td>\n",
              "      <td>0.000020</td>\n",
              "      <td>0.000025</td>\n",
              "      <td>0.0</td>\n",
              "    </tr>\n",
              "    <tr>\n",
              "      <th>43795</th>\n",
              "      <td>1</td>\n",
              "      <td>LUIS I. GODINEZ</td>\n",
              "      <td>FAMILY HEATING &amp; COOLING</td>\n",
              "      <td>CHICAGO</td>\n",
              "      <td>IL</td>\n",
              "      <td>60639</td>\n",
              "      <td>31.0</td>\n",
              "      <td>36.0</td>\n",
              "      <td>31-36</td>\n",
              "      <td>25.0</td>\n",
              "      <td>...</td>\n",
              "      <td>0.702863</td>\n",
              "      <td>0.000000</td>\n",
              "      <td>0.0036</td>\n",
              "      <td>0.007865</td>\n",
              "      <td>0.0</td>\n",
              "      <td>0.000037</td>\n",
              "      <td>0.000082</td>\n",
              "      <td>0.000094</td>\n",
              "      <td>0.000025</td>\n",
              "      <td>0.0</td>\n",
              "    </tr>\n",
              "  </tbody>\n",
              "</table>\n",
              "<p>5 rows × 47 columns</p>\n",
              "</div>\n",
              "      <button class=\"colab-df-convert\" onclick=\"convertToInteractive('df-502a3cd0-2ce3-443c-9816-727b94b547b9')\"\n",
              "              title=\"Convert this dataframe to an interactive table.\"\n",
              "              style=\"display:none;\">\n",
              "        \n",
              "  <svg xmlns=\"http://www.w3.org/2000/svg\" height=\"24px\"viewBox=\"0 0 24 24\"\n",
              "       width=\"24px\">\n",
              "    <path d=\"M0 0h24v24H0V0z\" fill=\"none\"/>\n",
              "    <path d=\"M18.56 5.44l.94 2.06.94-2.06 2.06-.94-2.06-.94-.94-2.06-.94 2.06-2.06.94zm-11 1L8.5 8.5l.94-2.06 2.06-.94-2.06-.94L8.5 2.5l-.94 2.06-2.06.94zm10 10l.94 2.06.94-2.06 2.06-.94-2.06-.94-.94-2.06-.94 2.06-2.06.94z\"/><path d=\"M17.41 7.96l-1.37-1.37c-.4-.4-.92-.59-1.43-.59-.52 0-1.04.2-1.43.59L10.3 9.45l-7.72 7.72c-.78.78-.78 2.05 0 2.83L4 21.41c.39.39.9.59 1.41.59.51 0 1.02-.2 1.41-.59l7.78-7.78 2.81-2.81c.8-.78.8-2.07 0-2.86zM5.41 20L4 18.59l7.72-7.72 1.47 1.35L5.41 20z\"/>\n",
              "  </svg>\n",
              "      </button>\n",
              "      \n",
              "  <style>\n",
              "    .colab-df-container {\n",
              "      display:flex;\n",
              "      flex-wrap:wrap;\n",
              "      gap: 12px;\n",
              "    }\n",
              "\n",
              "    .colab-df-convert {\n",
              "      background-color: #E8F0FE;\n",
              "      border: none;\n",
              "      border-radius: 50%;\n",
              "      cursor: pointer;\n",
              "      display: none;\n",
              "      fill: #1967D2;\n",
              "      height: 32px;\n",
              "      padding: 0 0 0 0;\n",
              "      width: 32px;\n",
              "    }\n",
              "\n",
              "    .colab-df-convert:hover {\n",
              "      background-color: #E2EBFA;\n",
              "      box-shadow: 0px 1px 2px rgba(60, 64, 67, 0.3), 0px 1px 3px 1px rgba(60, 64, 67, 0.15);\n",
              "      fill: #174EA6;\n",
              "    }\n",
              "\n",
              "    [theme=dark] .colab-df-convert {\n",
              "      background-color: #3B4455;\n",
              "      fill: #D2E3FC;\n",
              "    }\n",
              "\n",
              "    [theme=dark] .colab-df-convert:hover {\n",
              "      background-color: #434B5C;\n",
              "      box-shadow: 0px 1px 3px 1px rgba(0, 0, 0, 0.15);\n",
              "      filter: drop-shadow(0px 1px 2px rgba(0, 0, 0, 0.3));\n",
              "      fill: #FFFFFF;\n",
              "    }\n",
              "  </style>\n",
              "\n",
              "      <script>\n",
              "        const buttonEl =\n",
              "          document.querySelector('#df-502a3cd0-2ce3-443c-9816-727b94b547b9 button.colab-df-convert');\n",
              "        buttonEl.style.display =\n",
              "          google.colab.kernel.accessAllowed ? 'block' : 'none';\n",
              "\n",
              "        async function convertToInteractive(key) {\n",
              "          const element = document.querySelector('#df-502a3cd0-2ce3-443c-9816-727b94b547b9');\n",
              "          const dataTable =\n",
              "            await google.colab.kernel.invokeFunction('convertToInteractive',\n",
              "                                                     [key], {});\n",
              "          if (!dataTable) return;\n",
              "\n",
              "          const docLinkHtml = 'Like what you see? Visit the ' +\n",
              "            '<a target=\"_blank\" href=https://colab.research.google.com/notebooks/data_table.ipynb>data table notebook</a>'\n",
              "            + ' to learn more about interactive tables.';\n",
              "          element.innerHTML = '';\n",
              "          dataTable['output_type'] = 'display_data';\n",
              "          await google.colab.output.renderOutput(dataTable, element);\n",
              "          const docLink = document.createElement('div');\n",
              "          docLink.innerHTML = docLinkHtml;\n",
              "          element.appendChild(docLink);\n",
              "        }\n",
              "      </script>\n",
              "    </div>\n",
              "  </div>\n",
              "  "
            ]
          },
          "metadata": {},
          "execution_count": 21
        }
      ]
    },
    {
      "cell_type": "markdown",
      "source": [
        "## Train / Test Data Preparation"
      ],
      "metadata": {
        "id": "QCKFMOx2F37Y"
      }
    },
    {
      "cell_type": "code",
      "execution_count": 22,
      "source": [
        "X = sampled_df[['latitude', 'longitude',\n",
        "       'completion_to_start',\n",
        "       'start_to_expiry', 'approval_to_issuance', 'completion_to_payment',\n",
        "       'presence_of_enquiry_details',  'license_description_target_1',\n",
        "       'state_target_1', 'city_target_1', 'license_description_target_2',\n",
        "       'state_target_2', 'city_target_2', 'license_description_target_3',\n",
        "       'state_target_3', 'city_target_3', 'license_description_target_4',\n",
        "       'state_target_4', 'city_target_4', 'license_description_target_5',\n",
        "       'state_target_5', 'city_target_5']]\n",
        "\n",
        "\n",
        "y = sampled_df['target']"
      ],
      "outputs": [],
      "metadata": {
        "id": "HFxKMsVVF37Y"
      }
    },
    {
      "cell_type": "code",
      "execution_count": 23,
      "source": [
        "# mean imputation\n",
        "X = X.fillna(X.mean())"
      ],
      "outputs": [],
      "metadata": {
        "id": "OgbQWLZiF37Z"
      }
    },
    {
      "cell_type": "code",
      "execution_count": 24,
      "source": [
        "# Train/test preparation\n",
        "from sklearn.model_selection import train_test_split\n",
        "from sklearn.ensemble import RandomForestClassifier\n",
        "from sklearn.metrics import f1_score\n",
        "\n",
        "X_train, X_test, y_train, y_test = train_test_split(X,y, test_size=0.1)"
      ],
      "outputs": [],
      "metadata": {
        "id": "3Gf2jo4VF37Z"
      }
    },
    {
      "cell_type": "markdown",
      "source": [
        "## Modeling"
      ],
      "metadata": {
        "id": "I0uRvhJKF37Z"
      }
    },
    {
      "cell_type": "code",
      "execution_count": 25,
      "source": [
        "# KNN\n",
        "from sklearn.neighbors import KNeighborsClassifier\n",
        "knn_model = KNeighborsClassifier(n_neighbors=3)"
      ],
      "outputs": [],
      "metadata": {
        "id": "xvSZdZu_F37Z"
      }
    },
    {
      "cell_type": "code",
      "execution_count": 26,
      "source": [
        "# Scaling\n",
        "from sklearn.preprocessing import MinMaxScaler\n",
        "scaler = MinMaxScaler()\n",
        "scaler.fit(X_train)\n",
        "knn_model.fit((scaler.transform(X_train)),y_train)\n",
        "scaler.fit(X_test)\n",
        "y_pred = knn_model.predict(scaler.transform(X_test))"
      ],
      "outputs": [],
      "metadata": {
        "id": "WAx7ggDVF37Z"
      }
    },
    {
      "cell_type": "code",
      "execution_count": 27,
      "source": [
        "# Metrics Performance\n",
        "from sklearn.metrics import classification_report\n",
        "from sklearn.metrics import classification_report,confusion_matrix\n",
        "print(classification_report(y_test,y_pred))"
      ],
      "outputs": [
        {
          "output_type": "stream",
          "name": "stdout",
          "text": [
            "              precision    recall  f1-score   support\n",
            "\n",
            "           0       0.76      0.65      0.70       910\n",
            "           1       0.83      0.91      0.87      1664\n",
            "           2       0.86      0.51      0.64        35\n",
            "           3       1.00      0.39      0.56        36\n",
            "           4       0.21      0.22      0.21        51\n",
            "\n",
            "    accuracy                           0.80      2696\n",
            "   macro avg       0.73      0.54      0.60      2696\n",
            "weighted avg       0.80      0.80      0.79      2696\n",
            "\n"
          ]
        }
      ],
      "metadata": {
        "colab": {
          "base_uri": "https://localhost:8080/"
        },
        "id": "J9rk49oYF37Z",
        "outputId": "d71c638e-7f69-4677-d31e-a4578f9a8cab"
      }
    },
    {
      "cell_type": "code",
      "execution_count": 28,
      "source": [
        "# Logistic regression\n",
        "from sklearn.linear_model import LogisticRegression\n",
        "log_model = LogisticRegression()\n",
        "log_model.fit(X_train, y_train)\n",
        "y_pred = log_model.predict(X_test)"
      ],
      "outputs": [
        {
          "output_type": "stream",
          "name": "stderr",
          "text": [
            "/usr/local/lib/python3.7/dist-packages/sklearn/linear_model/_logistic.py:818: ConvergenceWarning: lbfgs failed to converge (status=1):\n",
            "STOP: TOTAL NO. of ITERATIONS REACHED LIMIT.\n",
            "\n",
            "Increase the number of iterations (max_iter) or scale the data as shown in:\n",
            "    https://scikit-learn.org/stable/modules/preprocessing.html\n",
            "Please also refer to the documentation for alternative solver options:\n",
            "    https://scikit-learn.org/stable/modules/linear_model.html#logistic-regression\n",
            "  extra_warning_msg=_LOGISTIC_SOLVER_CONVERGENCE_MSG,\n"
          ]
        }
      ],
      "metadata": {
        "colab": {
          "base_uri": "https://localhost:8080/"
        },
        "id": "GVVhZtuJF37a",
        "outputId": "e4a924d0-6496-4806-f86d-5a04966577bf"
      }
    },
    {
      "cell_type": "code",
      "execution_count": 29,
      "source": [
        "# Metrics Performance\n",
        "print(classification_report(y_test,y_pred))"
      ],
      "outputs": [
        {
          "output_type": "stream",
          "name": "stdout",
          "text": [
            "              precision    recall  f1-score   support\n",
            "\n",
            "           0       0.72      0.43      0.54       910\n",
            "           1       0.73      0.94      0.83      1664\n",
            "           2       0.00      0.00      0.00        35\n",
            "           3       0.00      0.00      0.00        36\n",
            "           4       0.00      0.00      0.00        51\n",
            "\n",
            "    accuracy                           0.73      2696\n",
            "   macro avg       0.29      0.27      0.27      2696\n",
            "weighted avg       0.70      0.73      0.69      2696\n",
            "\n"
          ]
        },
        {
          "output_type": "stream",
          "name": "stderr",
          "text": [
            "/usr/local/lib/python3.7/dist-packages/sklearn/metrics/_classification.py:1318: UndefinedMetricWarning: Precision and F-score are ill-defined and being set to 0.0 in labels with no predicted samples. Use `zero_division` parameter to control this behavior.\n",
            "  _warn_prf(average, modifier, msg_start, len(result))\n",
            "/usr/local/lib/python3.7/dist-packages/sklearn/metrics/_classification.py:1318: UndefinedMetricWarning: Precision and F-score are ill-defined and being set to 0.0 in labels with no predicted samples. Use `zero_division` parameter to control this behavior.\n",
            "  _warn_prf(average, modifier, msg_start, len(result))\n",
            "/usr/local/lib/python3.7/dist-packages/sklearn/metrics/_classification.py:1318: UndefinedMetricWarning: Precision and F-score are ill-defined and being set to 0.0 in labels with no predicted samples. Use `zero_division` parameter to control this behavior.\n",
            "  _warn_prf(average, modifier, msg_start, len(result))\n"
          ]
        }
      ],
      "metadata": {
        "colab": {
          "base_uri": "https://localhost:8080/"
        },
        "id": "ssGiIrwcF37a",
        "outputId": "09cc3726-de63-45bf-83b1-f856767333db"
      }
    },
    {
      "cell_type": "code",
      "execution_count": 30,
      "source": [
        "# Metrics Performance\n",
        "print(confusion_matrix(y_test,y_pred))"
      ],
      "outputs": [
        {
          "output_type": "stream",
          "name": "stdout",
          "text": [
            "[[ 391  515    3    1    0]\n",
            " [  84 1568   12    0    0]\n",
            " [   0   35    0    0    0]\n",
            " [  36    0    0    0    0]\n",
            " [  34   17    0    0    0]]\n"
          ]
        }
      ],
      "metadata": {
        "colab": {
          "base_uri": "https://localhost:8080/"
        },
        "id": "7tk-wQjvF37a",
        "outputId": "668f0f7d-3437-4f6b-ebc0-a1469a900553"
      }
    },
    {
      "cell_type": "code",
      "execution_count": 31,
      "source": [
        "# Naive Bias\n",
        "from sklearn.naive_bayes import GaussianNB\n",
        "nb_model = GaussianNB()\n",
        "y_pred = nb_model.fit(X_train, y_train).predict(X_test)"
      ],
      "outputs": [],
      "metadata": {
        "id": "veCMuGWaF37b"
      }
    },
    {
      "cell_type": "code",
      "execution_count": 32,
      "source": [
        "# Metrics Performance\n",
        "print(classification_report(y_test,y_pred))"
      ],
      "outputs": [
        {
          "output_type": "stream",
          "name": "stdout",
          "text": [
            "              precision    recall  f1-score   support\n",
            "\n",
            "           0       0.65      0.42      0.51       910\n",
            "           1       0.92      0.86      0.89      1664\n",
            "           2       1.00      1.00      1.00        35\n",
            "           3       0.26      1.00      0.42        36\n",
            "           4       0.09      0.71      0.17        51\n",
            "\n",
            "    accuracy                           0.71      2696\n",
            "   macro avg       0.58      0.80      0.60      2696\n",
            "weighted avg       0.80      0.71      0.74      2696\n",
            "\n"
          ]
        }
      ],
      "metadata": {
        "colab": {
          "base_uri": "https://localhost:8080/"
        },
        "id": "PBb2NX54F37b",
        "outputId": "70e3b54e-d37c-453b-89ac-e22040a10fe3"
      }
    },
    {
      "cell_type": "code",
      "execution_count": 33,
      "source": [
        "print(confusion_matrix(y_test,y_pred))"
      ],
      "outputs": [
        {
          "output_type": "stream",
          "name": "stdout",
          "text": [
            "[[ 379  132    0   88  311]\n",
            " [ 197 1426    0    3   38]\n",
            " [   0    0   35    0    0]\n",
            " [   0    0    0   36    0]\n",
            " [   6    0    0    9   36]]\n"
          ]
        }
      ],
      "metadata": {
        "colab": {
          "base_uri": "https://localhost:8080/"
        },
        "id": "NjVxbtIvF37b",
        "outputId": "12c9b5ba-26e3-4213-f43a-ca49fd22f2f6"
      }
    },
    {
      "cell_type": "code",
      "execution_count": 34,
      "source": [
        "# Decision Tree\n",
        "from sklearn.tree import DecisionTreeClassifier\n",
        "dt_model = DecisionTreeClassifier(random_state=0)\n",
        "y_pred = dt_model.fit(X_train, y_train).predict(X_test)"
      ],
      "outputs": [],
      "metadata": {
        "id": "oS0o7Y1pF37b"
      }
    },
    {
      "cell_type": "code",
      "execution_count": 35,
      "source": [
        "# Decision Tree\n",
        "from sklearn.tree import DecisionTreeClassifier\n",
        "DecisionTreeClassifier()"
      ],
      "outputs": [
        {
          "output_type": "execute_result",
          "data": {
            "text/plain": [
              "DecisionTreeClassifier()"
            ]
          },
          "metadata": {},
          "execution_count": 35
        }
      ],
      "metadata": {
        "colab": {
          "base_uri": "https://localhost:8080/"
        },
        "id": "NvTkiMcvF37b",
        "outputId": "b792329c-cff8-4056-fa9c-b93cf6af11e5"
      }
    },
    {
      "cell_type": "code",
      "execution_count": 36,
      "source": [
        "# Metrics Performance\n",
        "print(classification_report(y_test,y_pred))"
      ],
      "outputs": [
        {
          "output_type": "stream",
          "name": "stdout",
          "text": [
            "              precision    recall  f1-score   support\n",
            "\n",
            "           0       0.80      0.76      0.78       910\n",
            "           1       0.89      0.89      0.89      1664\n",
            "           2       1.00      1.00      1.00        35\n",
            "           3       1.00      1.00      1.00        36\n",
            "           4       0.61      0.92      0.73        51\n",
            "\n",
            "    accuracy                           0.85      2696\n",
            "   macro avg       0.86      0.92      0.88      2696\n",
            "weighted avg       0.86      0.85      0.85      2696\n",
            "\n"
          ]
        }
      ],
      "metadata": {
        "colab": {
          "base_uri": "https://localhost:8080/"
        },
        "id": "Vfl35rVKF37c",
        "outputId": "9ed60982-70b9-446f-a4dd-9316a7be1f6a"
      }
    },
    {
      "cell_type": "code",
      "execution_count": 37,
      "source": [
        "print(confusion_matrix(y_test,y_pred))"
      ],
      "outputs": [
        {
          "output_type": "stream",
          "name": "stdout",
          "text": [
            "[[ 696  186    0    0   28]\n",
            " [ 174 1488    0    0    2]\n",
            " [   0    0   35    0    0]\n",
            " [   0    0    0   36    0]\n",
            " [   4    0    0    0   47]]\n"
          ]
        }
      ],
      "metadata": {
        "colab": {
          "base_uri": "https://localhost:8080/"
        },
        "id": "ouPct2zxF37c",
        "outputId": "7c6be133-7d49-448e-feca-d786722e1d7c"
      }
    },
    {
      "cell_type": "code",
      "execution_count": 38,
      "source": [
        "# Finding the variable with more importance\n",
        "feature_importance = pd.DataFrame([X_train.columns, dt_model.feature_importances_])\n",
        "feature_importance = feature_importance.T.sort_values(by = 1, ascending=False)[1:10]"
      ],
      "outputs": [],
      "metadata": {
        "id": "TYJBjZgqF37c"
      }
    },
    {
      "cell_type": "code",
      "execution_count": 39,
      "source": [
        "import seaborn as sns\n",
        "sns.barplot(x=feature_importance[1], y=feature_importance[0])\n",
        "# Add labels to the graph\n",
        "plt.xlabel('Feature Importance Score')\n",
        "plt.ylabel('Features')\n",
        "plt.title(\"Visualizing Important Features\")\n",
        "plt.legend()\n",
        "plt.show()"
      ],
      "outputs": [
        {
          "output_type": "stream",
          "name": "stderr",
          "text": [
            "WARNING:matplotlib.legend:No handles with labels found to put in legend.\n"
          ]
        },
        {
          "output_type": "display_data",
          "data": {
            "text/plain": [
              "<Figure size 432x288 with 1 Axes>"
            ],
            "image/png": "[encoded data removed]"
          },
          "metadata": {
            "needs_background": "light"
          }
        }
      ],
      "metadata": {
        "colab": {
          "base_uri": "https://localhost:8080/",
          "height": 313
        },
        "id": "3Pdx9aKXF37c",
        "outputId": "0e2dd16e-2601-47e8-83b9-decceef65283"
      }
    },
    {
      "cell_type": "code",
      "execution_count": 41,
      "source": [
        "# Hyperparameter Tuning - Tree parameters\n",
        "'''\n",
        "1. No. of trees\n",
        "2. Depth of the trees\n",
        "3. Min no. of samples in the leaf node\n",
        "4. Max number of features\n",
        "5. Split Criterion \n",
        "'''"
      ],
      "outputs": [
        {
          "output_type": "execute_result",
          "data": {
            "text/plain": [
              "'\\n1. No. of trees\\n2. Depth of the trees\\n3. Min no. of samples in the leaf node\\n4. Max number of features\\n5. Split Criterion \\n'"
            ],
            "application/vnd.google.colaboratory.intrinsic+json": {
              "type": "string"
            }
          },
          "metadata": {},
          "execution_count": 41
        }
      ],
      "metadata": {
        "colab": {
          "base_uri": "https://localhost:8080/",
          "height": 36
        },
        "id": "PjyNBBciF37c",
        "outputId": "3d1bb3e8-0fec-4c1d-dd51-51ae087c8afb"
      }
    },
    {
      "cell_type": "code",
      "source": [],
      "metadata": {
        "id": "bWXy0oV1LAtu"
      },
      "execution_count": null,
      "outputs": []
    }
  ],
  "metadata": {
    "kernelspec": {
      "display_name": "Python 3",
      "language": "python",
      "name": "python3"
    },
    "language_info": {
      "codemirror_mode": {
        "name": "ipython",
        "version": 3
      },
      "file_extension": ".py",
      "mimetype": "text/x-python",
      "name": "python",
      "nbconvert_exporter": "python",
      "pygments_lexer": "ipython3",
      "version": "3.8.8"
    },
    "colab": {
      "provenance": [],
      "include_colab_link": true
    }
  },
  "nbformat": 4,
  "nbformat_minor": 0
}