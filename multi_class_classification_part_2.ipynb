{
  "cells": [
    {
      "cell_type": "markdown",
      "metadata": {
        "id": "view-in-github",
        "colab_type": "text"
      },
      "source": [
        "<a href=\"https://colab.research.google.com/github/NikethML/dev/blob/main/multi_class_classification_part_2.ipynb\" target=\"_parent\"><img src=\"https://colab.research.google.com/assets/colab-badge.svg\" alt=\"Open In Colab\"/></a>"
      ]
    },
    {
      "cell_type": "markdown",
      "metadata": {
        "id": "_Wne1RkEQmlA"
      },
      "source": [
        "# License Status Prediction - Multiclass Classification\n",
        "<hr style=\"border:1px solid gray\"> </hr>"
      ]
    },
    {
      "cell_type": "markdown",
      "metadata": {
        "id": "Cprm-mmJQmlG"
      },
      "source": [
        "## Contents.\n",
        "\n",
        "    1. Problem Description\n",
        "    2. Data Exploration\n",
        "    3. Feature Selection\n",
        "    4. KNN Algorithm\n",
        "    5. Naive Bias\n",
        "    5. Logistic Regression\n",
        "    6. Decisoin Tree\n",
        "    \n",
        "    \n",
        "--------------------------------------------------------------------------------------------------------------------------------\n"
      ]
    },
    {
      "cell_type": "markdown",
      "metadata": {
        "id": "FpT-rlqeQmlI"
      },
      "source": [
        "### Problem Description\n",
        "\n",
        "We are given a license dataset which holds various information related the business license , The objective of out problem is to predict license Status for the given business. Lets start with delving deep into the data.\n",
        "________________________________________________________________________________________________________________________________"
      ]
    },
    {
      "cell_type": "code",
      "execution_count": 7,
      "metadata": {
        "id": "DGeRhmCuQmlK"
      },
      "outputs": [],
      "source": [
        "import pandas as pd\n",
        "import numpy as np\n",
        "import matplotlib.pyplot as plt\n",
        "%matplotlib inline\n",
        "import os\n",
        "import category_encoders as ce"
      ]
    },
    {
      "cell_type": "code",
      "source": [],
      "metadata": {
        "id": "TNSuqMWpRjFG"
      },
      "execution_count": null,
      "outputs": []
    },
    {
      "cell_type": "code",
      "source": [
        "!pip install category_encoders\n",
        "\n"
      ],
      "metadata": {
        "colab": {
          "base_uri": "https://localhost:8080/"
        },
        "id": "M3faw0jwRi4Z",
        "outputId": "2f22d469-1918-4b81-e2c8-cbfc8d145b42"
      },
      "execution_count": 6,
      "outputs": [
        {
          "output_type": "stream",
          "name": "stdout",
          "text": [
            "Looking in indexes: https://pypi.org/simple, https://us-python.pkg.dev/colab-wheels/public/simple/\n",
            "Collecting category_encoders\n",
            "  Downloading category_encoders-2.5.0-py2.py3-none-any.whl (69 kB)\n",
            "\u001b[K     |████████████████████████████████| 69 kB 5.5 MB/s \n",
            "\u001b[?25hRequirement already satisfied: numpy>=1.14.0 in /usr/local/lib/python3.7/dist-packages (from category_encoders) (1.21.6)\n",
            "Requirement already satisfied: pandas>=1.0.5 in /usr/local/lib/python3.7/dist-packages (from category_encoders) (1.3.5)\n",
            "Requirement already satisfied: statsmodels>=0.9.0 in /usr/local/lib/python3.7/dist-packages (from category_encoders) (0.12.2)\n",
            "Requirement already satisfied: patsy>=0.5.1 in /usr/local/lib/python3.7/dist-packages (from category_encoders) (0.5.2)\n",
            "Requirement already satisfied: scipy>=1.0.0 in /usr/local/lib/python3.7/dist-packages (from category_encoders) (1.7.3)\n",
            "Requirement already satisfied: scikit-learn>=0.20.0 in /usr/local/lib/python3.7/dist-packages (from category_encoders) (1.0.2)\n",
            "Requirement already satisfied: pytz>=2017.3 in /usr/local/lib/python3.7/dist-packages (from pandas>=1.0.5->category_encoders) (2022.2.1)\n",
            "Requirement already satisfied: python-dateutil>=2.7.3 in /usr/local/lib/python3.7/dist-packages (from pandas>=1.0.5->category_encoders) (2.8.2)\n",
            "Requirement already satisfied: six in /usr/local/lib/python3.7/dist-packages (from patsy>=0.5.1->category_encoders) (1.15.0)\n",
            "Requirement already satisfied: threadpoolctl>=2.0.0 in /usr/local/lib/python3.7/dist-packages (from scikit-learn>=0.20.0->category_encoders) (3.1.0)\n",
            "Requirement already satisfied: joblib>=0.11 in /usr/local/lib/python3.7/dist-packages (from scikit-learn>=0.20.0->category_encoders) (1.1.0)\n",
            "Installing collected packages: category-encoders\n",
            "Successfully installed category-encoders-2.5.0\n"
          ]
        }
      ]
    },
    {
      "cell_type": "code",
      "source": [],
      "metadata": {
        "id": "Qfr2Wo2qRiqA"
      },
      "execution_count": null,
      "outputs": []
    },
    {
      "cell_type": "code",
      "execution_count": 9,
      "metadata": {
        "colab": {
          "base_uri": "https://localhost:8080/",
          "height": 1000
        },
        "id": "JwI3N4bPQmlM",
        "outputId": "15370cf6-9d59-4926-80c7-2826761543c0"
      },
      "outputs": [
        {
          "output_type": "stream",
          "name": "stdout",
          "text": [
            "(85895, 32)\n"
          ]
        },
        {
          "output_type": "stream",
          "name": "stderr",
          "text": [
            "/usr/local/lib/python3.7/dist-packages/IPython/core/interactiveshell.py:3326: DtypeWarning: Columns (9) have mixed types.Specify dtype option on import or set low_memory=False.\n",
            "  exec(code_obj, self.user_global_ns, self.user_ns)\n"
          ]
        },
        {
          "output_type": "display_data",
          "data": {
            "text/plain": [
              "                                                                                   0  \\\n",
              "ID                                                                    35342-20020816   \n",
              "LICENSE ID                                                                   1256593   \n",
              "ACCOUNT NUMBER                                                                 32811   \n",
              "SITE NUMBER                                                                        1   \n",
              "LEGAL NAME                                                              CARMEN CAHUE   \n",
              "DOING BUSINESS AS NAME                                         CLAUDIA'S BRIDAL SHOP   \n",
              "ADDRESS                                                   2625 S CENTRAL PARK AVE  1   \n",
              "CITY                                                                         CHICAGO   \n",
              "STATE                                                                             IL   \n",
              "ZIP CODE                                                                     60623.0   \n",
              "WARD                                                                            22.0   \n",
              "PRECINCT                                                                        28.0   \n",
              "WARD PRECINCT                                                                  22-28   \n",
              "POLICE DISTRICT                                                                 10.0   \n",
              "LICENSE CODE                                                                    1010   \n",
              "LICENSE DESCRIPTION                                         Limited Business License   \n",
              "LICENSE NUMBER                                                               35342.0   \n",
              "APPLICATION TYPE                                                               RENEW   \n",
              "APPLICATION CREATED DATE                                                         NaN   \n",
              "APPLICATION REQUIREMENTS COMPLETE                                2002-06-28T00:00:00   \n",
              "PAYMENT DATE                                                     2002-08-21T00:00:00   \n",
              "CONDITIONAL APPROVAL                                                               N   \n",
              "LICENSE TERM START DATE                                          2002-08-16T00:00:00   \n",
              "LICENSE TERM EXPIRATION DATE                                     2003-08-15T00:00:00   \n",
              "LICENSE APPROVED FOR ISSUANCE                                    2002-08-21T00:00:00   \n",
              "DATE ISSUED                                                      2006-04-11T00:00:00   \n",
              "LICENSE STATUS CHANGE DATE                                                       NaN   \n",
              "SSA                                                                             25.0   \n",
              "LATITUDE                                                                   41.843613   \n",
              "LONGITUDE                                                                 -87.714618   \n",
              "LOCATION                           {'latitude': '41.843612879431845', 'longitude'...   \n",
              "LICENSE STATUS                                                                   AAI   \n",
              "\n",
              "                                                                                   1  \\\n",
              "ID                                                                  1358463-20051116   \n",
              "LICENSE ID                                                                   1639294   \n",
              "ACCOUNT NUMBER                                                                262311   \n",
              "SITE NUMBER                                                                       29   \n",
              "LEGAL NAME                                                       ISLA TROPICAL, INC.   \n",
              "DOING BUSINESS AS NAME                                                 ISLA TROPICAL   \n",
              "ADDRESS                                                          2825 W MONTROSE AVE   \n",
              "CITY                                                                         CHICAGO   \n",
              "STATE                                                                             IL   \n",
              "ZIP CODE                                                                       60618   \n",
              "WARD                                                                            33.0   \n",
              "PRECINCT                                                                        23.0   \n",
              "WARD PRECINCT                                                                  33-23   \n",
              "POLICE DISTRICT                                                                 17.0   \n",
              "LICENSE CODE                                                                    1315   \n",
              "LICENSE DESCRIPTION                                            Mobile Food Dispenser   \n",
              "LICENSE NUMBER                                                             1358463.0   \n",
              "APPLICATION TYPE                                                               RENEW   \n",
              "APPLICATION CREATED DATE                                                         NaN   \n",
              "APPLICATION REQUIREMENTS COMPLETE                                2005-09-22T00:00:00   \n",
              "PAYMENT DATE                                                     2005-11-03T00:00:00   \n",
              "CONDITIONAL APPROVAL                                                               N   \n",
              "LICENSE TERM START DATE                                          2005-11-16T00:00:00   \n",
              "LICENSE TERM EXPIRATION DATE                                     2006-11-15T00:00:00   \n",
              "LICENSE APPROVED FOR ISSUANCE                                    2006-04-05T00:00:00   \n",
              "DATE ISSUED                                                      2006-06-12T00:00:00   \n",
              "LICENSE STATUS CHANGE DATE                                       2006-06-15T00:00:00   \n",
              "SSA                                                                             60.0   \n",
              "LATITUDE                                                                   41.961132   \n",
              "LONGITUDE                                                                 -87.699626   \n",
              "LOCATION                           {'latitude': '41.96113244107215', 'longitude':...   \n",
              "LICENSE STATUS                                                                   AAC   \n",
              "\n",
              "                                                      2  \\\n",
              "ID                                     1980233-20090722   \n",
              "LICENSE ID                                      1980233   \n",
              "ACCOUNT NUMBER                                   345008   \n",
              "SITE NUMBER                                           1   \n",
              "LEGAL NAME                               DJS REMODELING   \n",
              "DOING BUSINESS AS NAME             DJS REMODELING, INC.   \n",
              "ADDRESS                               1605  CLAVEY RD 1   \n",
              "CITY                                           HIGHLAND   \n",
              "STATE                                                IL   \n",
              "ZIP CODE                                          60035   \n",
              "WARD                                                NaN   \n",
              "PRECINCT                                            NaN   \n",
              "WARD PRECINCT                                       NaN   \n",
              "POLICE DISTRICT                                     NaN   \n",
              "LICENSE CODE                                       1011   \n",
              "LICENSE DESCRIPTION                         Home Repair   \n",
              "LICENSE NUMBER                                1980233.0   \n",
              "APPLICATION TYPE                                  ISSUE   \n",
              "APPLICATION CREATED DATE            2009-06-29T00:00:00   \n",
              "APPLICATION REQUIREMENTS COMPLETE   2009-07-22T00:00:00   \n",
              "PAYMENT DATE                        2009-07-22T00:00:00   \n",
              "CONDITIONAL APPROVAL                                  N   \n",
              "LICENSE TERM START DATE             2009-07-22T00:00:00   \n",
              "LICENSE TERM EXPIRATION DATE        2011-07-15T00:00:00   \n",
              "LICENSE APPROVED FOR ISSUANCE       2009-07-22T00:00:00   \n",
              "DATE ISSUED                         2009-07-22T00:00:00   \n",
              "LICENSE STATUS CHANGE DATE                          NaN   \n",
              "SSA                                                 NaN   \n",
              "LATITUDE                                            NaN   \n",
              "LONGITUDE                                           NaN   \n",
              "LOCATION                                            NaN   \n",
              "LICENSE STATUS                                      AAI   \n",
              "\n",
              "                                                          3  \\\n",
              "ID                                         1476582-20040211   \n",
              "LICENSE ID                                          1476582   \n",
              "ACCOUNT NUMBER                                       273121   \n",
              "SITE NUMBER                                               1   \n",
              "LEGAL NAME                         ALL-BRY CONSTRUCTION CO.   \n",
              "DOING BUSINESS AS NAME             ALL-BRY CONSTRUCTION CO.   \n",
              "ADDRESS                                      8  NORTH TRAIL   \n",
              "CITY                                                 LEMONT   \n",
              "STATE                                                    IL   \n",
              "ZIP CODE                                              60439   \n",
              "WARD                                                    NaN   \n",
              "PRECINCT                                                NaN   \n",
              "WARD PRECINCT                                           NaN   \n",
              "POLICE DISTRICT                                         NaN   \n",
              "LICENSE CODE                                           1010   \n",
              "LICENSE DESCRIPTION                Limited Business License   \n",
              "LICENSE NUMBER                                    1476582.0   \n",
              "APPLICATION TYPE                                      ISSUE   \n",
              "APPLICATION CREATED DATE                2004-02-10T00:00:00   \n",
              "APPLICATION REQUIREMENTS COMPLETE       2004-02-10T00:00:00   \n",
              "PAYMENT DATE                            2004-02-10T00:00:00   \n",
              "CONDITIONAL APPROVAL                                      N   \n",
              "LICENSE TERM START DATE                 2004-02-11T00:00:00   \n",
              "LICENSE TERM EXPIRATION DATE            2005-02-15T00:00:00   \n",
              "LICENSE APPROVED FOR ISSUANCE           2004-02-10T00:00:00   \n",
              "DATE ISSUED                             2004-02-11T00:00:00   \n",
              "LICENSE STATUS CHANGE DATE                              NaN   \n",
              "SSA                                                     NaN   \n",
              "LATITUDE                                                NaN   \n",
              "LONGITUDE                                               NaN   \n",
              "LOCATION                                                NaN   \n",
              "LICENSE STATUS                                          AAI   \n",
              "\n",
              "                                                              4  \n",
              "ID                                             1141408-20080516  \n",
              "LICENSE ID                                              1896750  \n",
              "ACCOUNT NUMBER                                           213785  \n",
              "SITE NUMBER                                                   1  \n",
              "LEGAL NAME                         MCDONOUGH MECHANICAL SERVICE  \n",
              "DOING BUSINESS AS NAME             MCDONOUGH MECHANICAL SERVICE  \n",
              "ADDRESS                                         4081  JOSEPH DR  \n",
              "CITY                                                   WAUKEGAN  \n",
              "STATE                                                        IL  \n",
              "ZIP CODE                                                  60087  \n",
              "WARD                                                        NaN  \n",
              "PRECINCT                                                    NaN  \n",
              "WARD PRECINCT                                               NaN  \n",
              "POLICE DISTRICT                                             NaN  \n",
              "LICENSE CODE                                               1010  \n",
              "LICENSE DESCRIPTION                    Limited Business License  \n",
              "LICENSE NUMBER                                        1141408.0  \n",
              "APPLICATION TYPE                                          RENEW  \n",
              "APPLICATION CREATED DATE                                    NaN  \n",
              "APPLICATION REQUIREMENTS COMPLETE           2008-03-24T00:00:00  \n",
              "PAYMENT DATE                                2008-06-04T00:00:00  \n",
              "CONDITIONAL APPROVAL                                          N  \n",
              "LICENSE TERM START DATE                     2008-05-16T00:00:00  \n",
              "LICENSE TERM EXPIRATION DATE                2010-05-15T00:00:00  \n",
              "LICENSE APPROVED FOR ISSUANCE               2008-06-04T00:00:00  \n",
              "DATE ISSUED                                 2008-06-05T00:00:00  \n",
              "LICENSE STATUS CHANGE DATE                                  NaN  \n",
              "SSA                                                         NaN  \n",
              "LATITUDE                                                    NaN  \n",
              "LONGITUDE                                                   NaN  \n",
              "LOCATION                                                    NaN  \n",
              "LICENSE STATUS                                              AAI  "
            ],
            "text/html": [
              "\n",
              "  <div id=\"df-dfc7b0c1-07db-4337-8eef-217ccff9d415\">\n",
              "    <div class=\"colab-df-container\">\n",
              "      <div>\n",
              "<style scoped>\n",
              "    .dataframe tbody tr th:only-of-type {\n",
              "        vertical-align: middle;\n",
              "    }\n",
              "\n",
              "    .dataframe tbody tr th {\n",
              "        vertical-align: top;\n",
              "    }\n",
              "\n",
              "    .dataframe thead th {\n",
              "        text-align: right;\n",
              "    }\n",
              "</style>\n",
              "<table border=\"1\" class=\"dataframe\">\n",
              "  <thead>\n",
              "    <tr style=\"text-align: right;\">\n",
              "      <th></th>\n",
              "      <th>0</th>\n",
              "      <th>1</th>\n",
              "      <th>2</th>\n",
              "      <th>3</th>\n",
              "      <th>4</th>\n",
              "    </tr>\n",
              "  </thead>\n",
              "  <tbody>\n",
              "    <tr>\n",
              "      <th>ID</th>\n",
              "      <td>35342-20020816</td>\n",
              "      <td>1358463-20051116</td>\n",
              "      <td>1980233-20090722</td>\n",
              "      <td>1476582-20040211</td>\n",
              "      <td>1141408-20080516</td>\n",
              "    </tr>\n",
              "    <tr>\n",
              "      <th>LICENSE ID</th>\n",
              "      <td>1256593</td>\n",
              "      <td>1639294</td>\n",
              "      <td>1980233</td>\n",
              "      <td>1476582</td>\n",
              "      <td>1896750</td>\n",
              "    </tr>\n",
              "    <tr>\n",
              "      <th>ACCOUNT NUMBER</th>\n",
              "      <td>32811</td>\n",
              "      <td>262311</td>\n",
              "      <td>345008</td>\n",
              "      <td>273121</td>\n",
              "      <td>213785</td>\n",
              "    </tr>\n",
              "    <tr>\n",
              "      <th>SITE NUMBER</th>\n",
              "      <td>1</td>\n",
              "      <td>29</td>\n",
              "      <td>1</td>\n",
              "      <td>1</td>\n",
              "      <td>1</td>\n",
              "    </tr>\n",
              "    <tr>\n",
              "      <th>LEGAL NAME</th>\n",
              "      <td>CARMEN CAHUE</td>\n",
              "      <td>ISLA TROPICAL, INC.</td>\n",
              "      <td>DJS REMODELING</td>\n",
              "      <td>ALL-BRY CONSTRUCTION CO.</td>\n",
              "      <td>MCDONOUGH MECHANICAL SERVICE</td>\n",
              "    </tr>\n",
              "    <tr>\n",
              "      <th>DOING BUSINESS AS NAME</th>\n",
              "      <td>CLAUDIA'S BRIDAL SHOP</td>\n",
              "      <td>ISLA TROPICAL</td>\n",
              "      <td>DJS REMODELING, INC.</td>\n",
              "      <td>ALL-BRY CONSTRUCTION CO.</td>\n",
              "      <td>MCDONOUGH MECHANICAL SERVICE</td>\n",
              "    </tr>\n",
              "    <tr>\n",
              "      <th>ADDRESS</th>\n",
              "      <td>2625 S CENTRAL PARK AVE  1</td>\n",
              "      <td>2825 W MONTROSE AVE</td>\n",
              "      <td>1605  CLAVEY RD 1</td>\n",
              "      <td>8  NORTH TRAIL</td>\n",
              "      <td>4081  JOSEPH DR</td>\n",
              "    </tr>\n",
              "    <tr>\n",
              "      <th>CITY</th>\n",
              "      <td>CHICAGO</td>\n",
              "      <td>CHICAGO</td>\n",
              "      <td>HIGHLAND</td>\n",
              "      <td>LEMONT</td>\n",
              "      <td>WAUKEGAN</td>\n",
              "    </tr>\n",
              "    <tr>\n",
              "      <th>STATE</th>\n",
              "      <td>IL</td>\n",
              "      <td>IL</td>\n",
              "      <td>IL</td>\n",
              "      <td>IL</td>\n",
              "      <td>IL</td>\n",
              "    </tr>\n",
              "    <tr>\n",
              "      <th>ZIP CODE</th>\n",
              "      <td>60623.0</td>\n",
              "      <td>60618</td>\n",
              "      <td>60035</td>\n",
              "      <td>60439</td>\n",
              "      <td>60087</td>\n",
              "    </tr>\n",
              "    <tr>\n",
              "      <th>WARD</th>\n",
              "      <td>22.0</td>\n",
              "      <td>33.0</td>\n",
              "      <td>NaN</td>\n",
              "      <td>NaN</td>\n",
              "      <td>NaN</td>\n",
              "    </tr>\n",
              "    <tr>\n",
              "      <th>PRECINCT</th>\n",
              "      <td>28.0</td>\n",
              "      <td>23.0</td>\n",
              "      <td>NaN</td>\n",
              "      <td>NaN</td>\n",
              "      <td>NaN</td>\n",
              "    </tr>\n",
              "    <tr>\n",
              "      <th>WARD PRECINCT</th>\n",
              "      <td>22-28</td>\n",
              "      <td>33-23</td>\n",
              "      <td>NaN</td>\n",
              "      <td>NaN</td>\n",
              "      <td>NaN</td>\n",
              "    </tr>\n",
              "    <tr>\n",
              "      <th>POLICE DISTRICT</th>\n",
              "      <td>10.0</td>\n",
              "      <td>17.0</td>\n",
              "      <td>NaN</td>\n",
              "      <td>NaN</td>\n",
              "      <td>NaN</td>\n",
              "    </tr>\n",
              "    <tr>\n",
              "      <th>LICENSE CODE</th>\n",
              "      <td>1010</td>\n",
              "      <td>1315</td>\n",
              "      <td>1011</td>\n",
              "      <td>1010</td>\n",
              "      <td>1010</td>\n",
              "    </tr>\n",
              "    <tr>\n",
              "      <th>LICENSE DESCRIPTION</th>\n",
              "      <td>Limited Business License</td>\n",
              "      <td>Mobile Food Dispenser</td>\n",
              "      <td>Home Repair</td>\n",
              "      <td>Limited Business License</td>\n",
              "      <td>Limited Business License</td>\n",
              "    </tr>\n",
              "    <tr>\n",
              "      <th>LICENSE NUMBER</th>\n",
              "      <td>35342.0</td>\n",
              "      <td>1358463.0</td>\n",
              "      <td>1980233.0</td>\n",
              "      <td>1476582.0</td>\n",
              "      <td>1141408.0</td>\n",
              "    </tr>\n",
              "    <tr>\n",
              "      <th>APPLICATION TYPE</th>\n",
              "      <td>RENEW</td>\n",
              "      <td>RENEW</td>\n",
              "      <td>ISSUE</td>\n",
              "      <td>ISSUE</td>\n",
              "      <td>RENEW</td>\n",
              "    </tr>\n",
              "    <tr>\n",
              "      <th>APPLICATION CREATED DATE</th>\n",
              "      <td>NaN</td>\n",
              "      <td>NaN</td>\n",
              "      <td>2009-06-29T00:00:00</td>\n",
              "      <td>2004-02-10T00:00:00</td>\n",
              "      <td>NaN</td>\n",
              "    </tr>\n",
              "    <tr>\n",
              "      <th>APPLICATION REQUIREMENTS COMPLETE</th>\n",
              "      <td>2002-06-28T00:00:00</td>\n",
              "      <td>2005-09-22T00:00:00</td>\n",
              "      <td>2009-07-22T00:00:00</td>\n",
              "      <td>2004-02-10T00:00:00</td>\n",
              "      <td>2008-03-24T00:00:00</td>\n",
              "    </tr>\n",
              "    <tr>\n",
              "      <th>PAYMENT DATE</th>\n",
              "      <td>2002-08-21T00:00:00</td>\n",
              "      <td>2005-11-03T00:00:00</td>\n",
              "      <td>2009-07-22T00:00:00</td>\n",
              "      <td>2004-02-10T00:00:00</td>\n",
              "      <td>2008-06-04T00:00:00</td>\n",
              "    </tr>\n",
              "    <tr>\n",
              "      <th>CONDITIONAL APPROVAL</th>\n",
              "      <td>N</td>\n",
              "      <td>N</td>\n",
              "      <td>N</td>\n",
              "      <td>N</td>\n",
              "      <td>N</td>\n",
              "    </tr>\n",
              "    <tr>\n",
              "      <th>LICENSE TERM START DATE</th>\n",
              "      <td>2002-08-16T00:00:00</td>\n",
              "      <td>2005-11-16T00:00:00</td>\n",
              "      <td>2009-07-22T00:00:00</td>\n",
              "      <td>2004-02-11T00:00:00</td>\n",
              "      <td>2008-05-16T00:00:00</td>\n",
              "    </tr>\n",
              "    <tr>\n",
              "      <th>LICENSE TERM EXPIRATION DATE</th>\n",
              "      <td>2003-08-15T00:00:00</td>\n",
              "      <td>2006-11-15T00:00:00</td>\n",
              "      <td>2011-07-15T00:00:00</td>\n",
              "      <td>2005-02-15T00:00:00</td>\n",
              "      <td>2010-05-15T00:00:00</td>\n",
              "    </tr>\n",
              "    <tr>\n",
              "      <th>LICENSE APPROVED FOR ISSUANCE</th>\n",
              "      <td>2002-08-21T00:00:00</td>\n",
              "      <td>2006-04-05T00:00:00</td>\n",
              "      <td>2009-07-22T00:00:00</td>\n",
              "      <td>2004-02-10T00:00:00</td>\n",
              "      <td>2008-06-04T00:00:00</td>\n",
              "    </tr>\n",
              "    <tr>\n",
              "      <th>DATE ISSUED</th>\n",
              "      <td>2006-04-11T00:00:00</td>\n",
              "      <td>2006-06-12T00:00:00</td>\n",
              "      <td>2009-07-22T00:00:00</td>\n",
              "      <td>2004-02-11T00:00:00</td>\n",
              "      <td>2008-06-05T00:00:00</td>\n",
              "    </tr>\n",
              "    <tr>\n",
              "      <th>LICENSE STATUS CHANGE DATE</th>\n",
              "      <td>NaN</td>\n",
              "      <td>2006-06-15T00:00:00</td>\n",
              "      <td>NaN</td>\n",
              "      <td>NaN</td>\n",
              "      <td>NaN</td>\n",
              "    </tr>\n",
              "    <tr>\n",
              "      <th>SSA</th>\n",
              "      <td>25.0</td>\n",
              "      <td>60.0</td>\n",
              "      <td>NaN</td>\n",
              "      <td>NaN</td>\n",
              "      <td>NaN</td>\n",
              "    </tr>\n",
              "    <tr>\n",
              "      <th>LATITUDE</th>\n",
              "      <td>41.843613</td>\n",
              "      <td>41.961132</td>\n",
              "      <td>NaN</td>\n",
              "      <td>NaN</td>\n",
              "      <td>NaN</td>\n",
              "    </tr>\n",
              "    <tr>\n",
              "      <th>LONGITUDE</th>\n",
              "      <td>-87.714618</td>\n",
              "      <td>-87.699626</td>\n",
              "      <td>NaN</td>\n",
              "      <td>NaN</td>\n",
              "      <td>NaN</td>\n",
              "    </tr>\n",
              "    <tr>\n",
              "      <th>LOCATION</th>\n",
              "      <td>{'latitude': '41.843612879431845', 'longitude'...</td>\n",
              "      <td>{'latitude': '41.96113244107215', 'longitude':...</td>\n",
              "      <td>NaN</td>\n",
              "      <td>NaN</td>\n",
              "      <td>NaN</td>\n",
              "    </tr>\n",
              "    <tr>\n",
              "      <th>LICENSE STATUS</th>\n",
              "      <td>AAI</td>\n",
              "      <td>AAC</td>\n",
              "      <td>AAI</td>\n",
              "      <td>AAI</td>\n",
              "      <td>AAI</td>\n",
              "    </tr>\n",
              "  </tbody>\n",
              "</table>\n",
              "</div>\n",
              "      <button class=\"colab-df-convert\" onclick=\"convertToInteractive('df-dfc7b0c1-07db-4337-8eef-217ccff9d415')\"\n",
              "              title=\"Convert this dataframe to an interactive table.\"\n",
              "              style=\"display:none;\">\n",
              "        \n",
              "  <svg xmlns=\"http://www.w3.org/2000/svg\" height=\"24px\"viewBox=\"0 0 24 24\"\n",
              "       width=\"24px\">\n",
              "    <path d=\"M0 0h24v24H0V0z\" fill=\"none\"/>\n",
              "    <path d=\"M18.56 5.44l.94 2.06.94-2.06 2.06-.94-2.06-.94-.94-2.06-.94 2.06-2.06.94zm-11 1L8.5 8.5l.94-2.06 2.06-.94-2.06-.94L8.5 2.5l-.94 2.06-2.06.94zm10 10l.94 2.06.94-2.06 2.06-.94-2.06-.94-.94-2.06-.94 2.06-2.06.94z\"/><path d=\"M17.41 7.96l-1.37-1.37c-.4-.4-.92-.59-1.43-.59-.52 0-1.04.2-1.43.59L10.3 9.45l-7.72 7.72c-.78.78-.78 2.05 0 2.83L4 21.41c.39.39.9.59 1.41.59.51 0 1.02-.2 1.41-.59l7.78-7.78 2.81-2.81c.8-.78.8-2.07 0-2.86zM5.41 20L4 18.59l7.72-7.72 1.47 1.35L5.41 20z\"/>\n",
              "  </svg>\n",
              "      </button>\n",
              "      \n",
              "  <style>\n",
              "    .colab-df-container {\n",
              "      display:flex;\n",
              "      flex-wrap:wrap;\n",
              "      gap: 12px;\n",
              "    }\n",
              "\n",
              "    .colab-df-convert {\n",
              "      background-color: #E8F0FE;\n",
              "      border: none;\n",
              "      border-radius: 50%;\n",
              "      cursor: pointer;\n",
              "      display: none;\n",
              "      fill: #1967D2;\n",
              "      height: 32px;\n",
              "      padding: 0 0 0 0;\n",
              "      width: 32px;\n",
              "    }\n",
              "\n",
              "    .colab-df-convert:hover {\n",
              "      background-color: #E2EBFA;\n",
              "      box-shadow: 0px 1px 2px rgba(60, 64, 67, 0.3), 0px 1px 3px 1px rgba(60, 64, 67, 0.15);\n",
              "      fill: #174EA6;\n",
              "    }\n",
              "\n",
              "    [theme=dark] .colab-df-convert {\n",
              "      background-color: #3B4455;\n",
              "      fill: #D2E3FC;\n",
              "    }\n",
              "\n",
              "    [theme=dark] .colab-df-convert:hover {\n",
              "      background-color: #434B5C;\n",
              "      box-shadow: 0px 1px 3px 1px rgba(0, 0, 0, 0.15);\n",
              "      filter: drop-shadow(0px 1px 2px rgba(0, 0, 0, 0.3));\n",
              "      fill: #FFFFFF;\n",
              "    }\n",
              "  </style>\n",
              "\n",
              "      <script>\n",
              "        const buttonEl =\n",
              "          document.querySelector('#df-dfc7b0c1-07db-4337-8eef-217ccff9d415 button.colab-df-convert');\n",
              "        buttonEl.style.display =\n",
              "          google.colab.kernel.accessAllowed ? 'block' : 'none';\n",
              "\n",
              "        async function convertToInteractive(key) {\n",
              "          const element = document.querySelector('#df-dfc7b0c1-07db-4337-8eef-217ccff9d415');\n",
              "          const dataTable =\n",
              "            await google.colab.kernel.invokeFunction('convertToInteractive',\n",
              "                                                     [key], {});\n",
              "          if (!dataTable) return;\n",
              "\n",
              "          const docLinkHtml = 'Like what you see? Visit the ' +\n",
              "            '<a target=\"_blank\" href=https://colab.research.google.com/notebooks/data_table.ipynb>data table notebook</a>'\n",
              "            + ' to learn more about interactive tables.';\n",
              "          element.innerHTML = '';\n",
              "          dataTable['output_type'] = 'display_data';\n",
              "          await google.colab.output.renderOutput(dataTable, element);\n",
              "          const docLink = document.createElement('div');\n",
              "          docLink.innerHTML = docLinkHtml;\n",
              "          element.appendChild(docLink);\n",
              "        }\n",
              "      </script>\n",
              "    </div>\n",
              "  </div>\n",
              "  "
            ]
          },
          "metadata": {}
        }
      ],
      "source": [
        "# read the df\n",
        "url='https://github.com/NikethML/dev/blob/main/input/License_Data.csv?raw=true'\n",
        "df = pd.read_csv(url)\n",
        "\n",
        "# print the shape of the dataframe\n",
        "print(df.shape)\n",
        "\n",
        "# show the top few rows\n",
        "display(df.head().T)"
      ]
    },
    {
      "cell_type": "code",
      "execution_count": 10,
      "metadata": {
        "id": "XKfHpFusQmlP"
      },
      "outputs": [],
      "source": [
        "# change the columns name\n",
        "new_col_name = [col.replace(\" \",\"_\").lower() for col in df.columns]\n",
        "df.columns = new_col_name"
      ]
    },
    {
      "cell_type": "markdown",
      "metadata": {
        "id": "fHOvpcTuQmlQ"
      },
      "source": [
        "## Variable Description\n",
        "\n",
        "<b>Dependent Variable</b>   <br>\n",
        "&nbsp;&nbsp;&nbsp;&nbsp;    1. AAI - License status is issued <br>\n",
        "&nbsp;&nbsp;&nbsp;&nbsp;    2. AAC - License status is cancelled <br>\n",
        "&nbsp;&nbsp;&nbsp;&nbsp;    3. REV - License status is revoked <br>\n",
        "&nbsp;&nbsp;&nbsp;&nbsp;    4. REA - License status is revoked and appealed <br>\n",
        "&nbsp;&nbsp;&nbsp;&nbsp;    5. INQ - License status is in enquiry <br>\n",
        "    <br>\n",
        "<b>Independent Variable</b> : <br>\n",
        "&nbsp;&nbsp;&nbsp;&nbsp;    Timeline of the application status <br>\n",
        "&nbsp;&nbsp;&nbsp;&nbsp;    Type of business <br>\n",
        "&nbsp;&nbsp;&nbsp;&nbsp;    Location details of the business <br>\n",
        "&nbsp;&nbsp;&nbsp;&nbsp;    Payment details <br>\n",
        "_______________________________________________________________________________________________________________________________"
      ]
    },
    {
      "cell_type": "code",
      "execution_count": 11,
      "metadata": {
        "colab": {
          "base_uri": "https://localhost:8080/"
        },
        "id": "ExwiAcJdQmlR",
        "outputId": "7fbb4e29-08dc-4c07-bd5d-461c5035fe17"
      },
      "outputs": [
        {
          "output_type": "execute_result",
          "data": {
            "text/plain": [
              "Index(['id', 'license_id', 'account_number', 'site_number', 'legal_name',\n",
              "       'doing_business_as_name', 'address', 'city', 'state', 'zip_code',\n",
              "       'ward', 'precinct', 'ward_precinct', 'police_district', 'license_code',\n",
              "       'license_description', 'license_number', 'application_type',\n",
              "       'application_created_date', 'application_requirements_complete',\n",
              "       'payment_date', 'conditional_approval', 'license_term_start_date',\n",
              "       'license_term_expiration_date', 'license_approved_for_issuance',\n",
              "       'date_issued', 'license_status_change_date', 'ssa', 'latitude',\n",
              "       'longitude', 'location', 'license_status'],\n",
              "      dtype='object')"
            ]
          },
          "metadata": {},
          "execution_count": 11
        }
      ],
      "source": [
        "df.columns"
      ]
    },
    {
      "cell_type": "markdown",
      "metadata": {
        "id": "2ZWBsOVYQmlS"
      },
      "source": [
        "## Data Cleansing\n",
        "\n",
        "1. Missing Values - lot of missing data for particular variables\n",
        "2. Unique Data - id (no meaning)\n",
        "3. Data leakage - The AAI alone doesn't have licesnse status change value (as the license are never revoked/cancelled) \n"
      ]
    },
    {
      "cell_type": "code",
      "execution_count": 12,
      "metadata": {
        "colab": {
          "base_uri": "https://localhost:8080/"
        },
        "id": "yAmyM6QhQmlT",
        "outputId": "f15f53d0-2435-47d6-f08d-9ba11769da55"
      },
      "outputs": [
        {
          "output_type": "execute_result",
          "data": {
            "text/plain": [
              "id                                       0\n",
              "license_id                               0\n",
              "account_number                           0\n",
              "site_number                              0\n",
              "legal_name                               0\n",
              "doing_business_as_name                   1\n",
              "address                                  0\n",
              "city                                     0\n",
              "state                                    0\n",
              "zip_code                                31\n",
              "ward                                 49701\n",
              "precinct                             56701\n",
              "ward_precinct                        49700\n",
              "police_district                      54012\n",
              "license_code                             0\n",
              "license_description                      0\n",
              "license_number                           1\n",
              "application_type                         0\n",
              "application_created_date             64660\n",
              "application_requirements_complete      214\n",
              "payment_date                          1289\n",
              "conditional_approval                     0\n",
              "license_term_start_date                228\n",
              "license_term_expiration_date            18\n",
              "license_approved_for_issuance         6789\n",
              "date_issued                              0\n",
              "license_status_change_date           55400\n",
              "ssa                                  76446\n",
              "latitude                             47246\n",
              "longitude                            47246\n",
              "location                             47246\n",
              "license_status                           0\n",
              "dtype: int64"
            ]
          },
          "metadata": {},
          "execution_count": 12
        }
      ],
      "source": [
        "df.isnull().sum()"
      ]
    },
    {
      "cell_type": "code",
      "execution_count": 13,
      "metadata": {
        "id": "efnKR8bwQmlU"
      },
      "outputs": [],
      "source": [
        "# Drop columns which are not relevent for the prediction / too many missing values\n",
        "drop_col_list = [\"id\",\"license_id\",\"ssa\",\"location\",\"application_created_date\",\"account_number\",\"address\"]\n",
        "df = df.drop(drop_col_list, axis=1)"
      ]
    },
    {
      "cell_type": "code",
      "execution_count": 14,
      "metadata": {
        "id": "ashJ_1WFQmlU"
      },
      "outputs": [],
      "source": [
        "df[\"license_status_change\"] = np.where(df.license_status_change_date.isnull(),1,0)"
      ]
    },
    {
      "cell_type": "code",
      "execution_count": 15,
      "metadata": {
        "colab": {
          "base_uri": "https://localhost:8080/",
          "height": 143
        },
        "id": "yPRigVccQmlV",
        "outputId": "fffe0109-e409-4384-8d1b-0c49312899b4"
      },
      "outputs": [
        {
          "output_type": "execute_result",
          "data": {
            "text/plain": [
              "license_status           AAC    AAI  INQ  REA  REV\n",
              "license_status_change                             \n",
              "0                      30200      0    2    3  290\n",
              "1                          0  55400    0    0    0"
            ],
            "text/html": [
              "\n",
              "  <div id=\"df-58565f5c-a99a-446e-8c9e-327cf8c2f656\">\n",
              "    <div class=\"colab-df-container\">\n",
              "      <div>\n",
              "<style scoped>\n",
              "    .dataframe tbody tr th:only-of-type {\n",
              "        vertical-align: middle;\n",
              "    }\n",
              "\n",
              "    .dataframe tbody tr th {\n",
              "        vertical-align: top;\n",
              "    }\n",
              "\n",
              "    .dataframe thead th {\n",
              "        text-align: right;\n",
              "    }\n",
              "</style>\n",
              "<table border=\"1\" class=\"dataframe\">\n",
              "  <thead>\n",
              "    <tr style=\"text-align: right;\">\n",
              "      <th>license_status</th>\n",
              "      <th>AAC</th>\n",
              "      <th>AAI</th>\n",
              "      <th>INQ</th>\n",
              "      <th>REA</th>\n",
              "      <th>REV</th>\n",
              "    </tr>\n",
              "    <tr>\n",
              "      <th>license_status_change</th>\n",
              "      <th></th>\n",
              "      <th></th>\n",
              "      <th></th>\n",
              "      <th></th>\n",
              "      <th></th>\n",
              "    </tr>\n",
              "  </thead>\n",
              "  <tbody>\n",
              "    <tr>\n",
              "      <th>0</th>\n",
              "      <td>30200</td>\n",
              "      <td>0</td>\n",
              "      <td>2</td>\n",
              "      <td>3</td>\n",
              "      <td>290</td>\n",
              "    </tr>\n",
              "    <tr>\n",
              "      <th>1</th>\n",
              "      <td>0</td>\n",
              "      <td>55400</td>\n",
              "      <td>0</td>\n",
              "      <td>0</td>\n",
              "      <td>0</td>\n",
              "    </tr>\n",
              "  </tbody>\n",
              "</table>\n",
              "</div>\n",
              "      <button class=\"colab-df-convert\" onclick=\"convertToInteractive('df-58565f5c-a99a-446e-8c9e-327cf8c2f656')\"\n",
              "              title=\"Convert this dataframe to an interactive table.\"\n",
              "              style=\"display:none;\">\n",
              "        \n",
              "  <svg xmlns=\"http://www.w3.org/2000/svg\" height=\"24px\"viewBox=\"0 0 24 24\"\n",
              "       width=\"24px\">\n",
              "    <path d=\"M0 0h24v24H0V0z\" fill=\"none\"/>\n",
              "    <path d=\"M18.56 5.44l.94 2.06.94-2.06 2.06-.94-2.06-.94-.94-2.06-.94 2.06-2.06.94zm-11 1L8.5 8.5l.94-2.06 2.06-.94-2.06-.94L8.5 2.5l-.94 2.06-2.06.94zm10 10l.94 2.06.94-2.06 2.06-.94-2.06-.94-.94-2.06-.94 2.06-2.06.94z\"/><path d=\"M17.41 7.96l-1.37-1.37c-.4-.4-.92-.59-1.43-.59-.52 0-1.04.2-1.43.59L10.3 9.45l-7.72 7.72c-.78.78-.78 2.05 0 2.83L4 21.41c.39.39.9.59 1.41.59.51 0 1.02-.2 1.41-.59l7.78-7.78 2.81-2.81c.8-.78.8-2.07 0-2.86zM5.41 20L4 18.59l7.72-7.72 1.47 1.35L5.41 20z\"/>\n",
              "  </svg>\n",
              "      </button>\n",
              "      \n",
              "  <style>\n",
              "    .colab-df-container {\n",
              "      display:flex;\n",
              "      flex-wrap:wrap;\n",
              "      gap: 12px;\n",
              "    }\n",
              "\n",
              "    .colab-df-convert {\n",
              "      background-color: #E8F0FE;\n",
              "      border: none;\n",
              "      border-radius: 50%;\n",
              "      cursor: pointer;\n",
              "      display: none;\n",
              "      fill: #1967D2;\n",
              "      height: 32px;\n",
              "      padding: 0 0 0 0;\n",
              "      width: 32px;\n",
              "    }\n",
              "\n",
              "    .colab-df-convert:hover {\n",
              "      background-color: #E2EBFA;\n",
              "      box-shadow: 0px 1px 2px rgba(60, 64, 67, 0.3), 0px 1px 3px 1px rgba(60, 64, 67, 0.15);\n",
              "      fill: #174EA6;\n",
              "    }\n",
              "\n",
              "    [theme=dark] .colab-df-convert {\n",
              "      background-color: #3B4455;\n",
              "      fill: #D2E3FC;\n",
              "    }\n",
              "\n",
              "    [theme=dark] .colab-df-convert:hover {\n",
              "      background-color: #434B5C;\n",
              "      box-shadow: 0px 1px 3px 1px rgba(0, 0, 0, 0.15);\n",
              "      filter: drop-shadow(0px 1px 2px rgba(0, 0, 0, 0.3));\n",
              "      fill: #FFFFFF;\n",
              "    }\n",
              "  </style>\n",
              "\n",
              "      <script>\n",
              "        const buttonEl =\n",
              "          document.querySelector('#df-58565f5c-a99a-446e-8c9e-327cf8c2f656 button.colab-df-convert');\n",
              "        buttonEl.style.display =\n",
              "          google.colab.kernel.accessAllowed ? 'block' : 'none';\n",
              "\n",
              "        async function convertToInteractive(key) {\n",
              "          const element = document.querySelector('#df-58565f5c-a99a-446e-8c9e-327cf8c2f656');\n",
              "          const dataTable =\n",
              "            await google.colab.kernel.invokeFunction('convertToInteractive',\n",
              "                                                     [key], {});\n",
              "          if (!dataTable) return;\n",
              "\n",
              "          const docLinkHtml = 'Like what you see? Visit the ' +\n",
              "            '<a target=\"_blank\" href=https://colab.research.google.com/notebooks/data_table.ipynb>data table notebook</a>'\n",
              "            + ' to learn more about interactive tables.';\n",
              "          element.innerHTML = '';\n",
              "          dataTable['output_type'] = 'display_data';\n",
              "          await google.colab.output.renderOutput(dataTable, element);\n",
              "          const docLink = document.createElement('div');\n",
              "          docLink.innerHTML = docLinkHtml;\n",
              "          element.appendChild(docLink);\n",
              "        }\n",
              "      </script>\n",
              "    </div>\n",
              "  </div>\n",
              "  "
            ]
          },
          "metadata": {},
          "execution_count": 15
        }
      ],
      "source": [
        "pd.crosstab(df.license_status_change,df.license_status)"
      ]
    },
    {
      "cell_type": "markdown",
      "metadata": {
        "id": "4E-F5ATxQmlV"
      },
      "source": [
        "## Data Transformation\n",
        "1. Timeline creation\n",
        "2. Encoding\n",
        "3. New Feature"
      ]
    },
    {
      "cell_type": "code",
      "execution_count": 16,
      "metadata": {
        "id": "hQzFW_BOQmlW"
      },
      "outputs": [],
      "source": [
        "# convert string object into date\n",
        "df.application_requirements_complete = pd.DatetimeIndex(df.application_requirements_complete)\n",
        "df.payment_date = pd.DatetimeIndex(df.payment_date)\n",
        "df.license_term_start_date = pd.DatetimeIndex(df.license_term_start_date)\n",
        "df.license_term_expiration_date = pd.DatetimeIndex(df.license_term_expiration_date)\n",
        "df.license_approved_for_issuance = pd.DatetimeIndex(df.license_approved_for_issuance)\n",
        "df.date_issued = pd.DatetimeIndex(df.date_issued)"
      ]
    },
    {
      "cell_type": "code",
      "execution_count": 17,
      "metadata": {
        "id": "7635SMYoQmlX"
      },
      "outputs": [],
      "source": [
        "# Find no.of days btw different application status date\n",
        "df[\"completion_to_start\"] = (df.license_term_start_date - df.application_requirements_complete).dt.days\n",
        "df[\"start_to_expiry\"] =  (df.license_term_expiration_date - df.license_term_start_date).dt.days\n",
        "df[\"approval_to_issuance\"] = (df.date_issued - df.license_approved_for_issuance).dt.days\n",
        "df[\"completion_to_payment\"] = (df.payment_date - df.application_requirements_complete).dt.days\n",
        "\n",
        "df[\"presence_of_enquiry_details\"] = np.where(df.ward.isnull() | df.ward_precinct.isnull() | df.police_district | df.precinct , 0 ,1 )\n",
        "\n",
        "df[\"target\"] = df[['license_status']].apply(lambda col:pd.Categorical(col).codes)"
      ]
    },
    {
      "cell_type": "code",
      "execution_count": 18,
      "metadata": {
        "colab": {
          "base_uri": "https://localhost:8080/"
        },
        "id": "UmPytfcPQmlY",
        "outputId": "0f432acc-5968-4a6b-cd76-bf420cad6aa6"
      },
      "outputs": [
        {
          "output_type": "execute_result",
          "data": {
            "text/plain": [
              "array(['CHICAGO', 'HIGHLAND', 'LEMONT', ..., 'ABERDEEN', 'PENSACOLA',\n",
              "       'MACHESNEY PARK'], dtype=object)"
            ]
          },
          "metadata": {},
          "execution_count": 18
        }
      ],
      "source": [
        "df.city.unique()"
      ]
    },
    {
      "cell_type": "code",
      "execution_count": 19,
      "metadata": {
        "colab": {
          "base_uri": "https://localhost:8080/"
        },
        "id": "t1WoEPQWQmlY",
        "outputId": "1b9806e7-38a4-4130-e347-a4c5f7b1400a"
      },
      "outputs": [
        {
          "output_type": "stream",
          "name": "stdout",
          "text": [
            "Index(['target_1', 'target_2', 'target_3', 'target_4', 'target_5'], dtype='object')\n"
          ]
        }
      ],
      "source": [
        "enc=ce.OneHotEncoder().fit(df.target.astype(str))\n",
        "y_onehot=enc.transform(df.target.astype(str))\n",
        "print(y_onehot.columns)"
      ]
    },
    {
      "cell_type": "markdown",
      "metadata": {
        "id": "DyJZ9ANAQmlZ"
      },
      "source": [
        "## Target Encoding"
      ]
    },
    {
      "cell_type": "code",
      "execution_count": 20,
      "metadata": {
        "colab": {
          "base_uri": "https://localhost:8080/"
        },
        "id": "WgXXgsK6QmlZ",
        "outputId": "b743c3af-0e81-4d42-9982-bdf40b23aa07"
      },
      "outputs": [
        {
          "output_type": "stream",
          "name": "stderr",
          "text": [
            "/usr/local/lib/python3.7/dist-packages/category_encoders/target_encoder.py:94: FutureWarning: Default parameter min_samples_leaf will change in version 2.6.See https://github.com/scikit-learn-contrib/category_encoders/issues/327\n",
            "  category=FutureWarning)\n"
          ]
        }
      ],
      "source": [
        "enc=ce.OneHotEncoder().fit(df.target.astype(str))\n",
        "y_onehot=enc.transform(df.target.astype(str))\n",
        "\n",
        "class_names=y_onehot.columns\n",
        "for class_ in class_names:\n",
        "  enc=ce.TargetEncoder(smoothing=0)\n",
        "  temp = enc.fit_transform(df[[\"license_description\",\"state\",\"city\"]],y_onehot[class_])\n",
        "  temp.columns=[str(x)+'_'+str(class_) for x in temp.columns]\n",
        "  df = pd.concat([df,temp],axis=1)"
      ]
    },
    {
      "cell_type": "markdown",
      "metadata": {
        "id": "2Ii_tUeGQmlb"
      },
      "source": [
        "### Class Imbalance "
      ]
    },
    {
      "cell_type": "code",
      "execution_count": 21,
      "metadata": {
        "colab": {
          "base_uri": "https://localhost:8080/"
        },
        "id": "x9NBrWw5Qmlb",
        "outputId": "f294e388-91a5-4b4f-9aa1-09c2fb3ec778"
      },
      "outputs": [
        {
          "output_type": "execute_result",
          "data": {
            "text/plain": [
              "AAI    55400\n",
              "AAC    30200\n",
              "REV      290\n",
              "REA        3\n",
              "INQ        2\n",
              "Name: license_status, dtype: int64"
            ]
          },
          "metadata": {},
          "execution_count": 21
        }
      ],
      "source": [
        "df.license_status.value_counts()"
      ]
    },
    {
      "cell_type": "code",
      "execution_count": 22,
      "metadata": {
        "colab": {
          "base_uri": "https://localhost:8080/"
        },
        "id": "FY2HYFdvQmlc",
        "outputId": "fbdfb468-1f2e-42f1-f7cc-f0477a1cf6ea"
      },
      "outputs": [
        {
          "output_type": "execute_result",
          "data": {
            "text/plain": [
              "AAI    64.497%\n",
              "AAC    35.159%\n",
              "REV     0.338%\n",
              "REA     0.003%\n",
              "INQ     0.002%\n",
              "Name: license_status, dtype: object"
            ]
          },
          "metadata": {},
          "execution_count": 22
        }
      ],
      "source": [
        "df.license_status.value_counts(normalize=True).mul(100).round(3).astype(str) + '%'"
      ]
    },
    {
      "cell_type": "markdown",
      "metadata": {
        "id": "UetBZ7rgQmle"
      },
      "source": [
        "## over sampling/under sampling"
      ]
    },
    {
      "cell_type": "code",
      "execution_count": 23,
      "metadata": {
        "colab": {
          "base_uri": "https://localhost:8080/"
        },
        "id": "Cw4dbpcIQmle",
        "outputId": "a7a9aedb-3c75-4b7d-b662-dd2d4a956d5c"
      },
      "outputs": [
        {
          "output_type": "execute_result",
          "data": {
            "text/plain": [
              "[0, 1, 2, 3, 4]"
            ]
          },
          "metadata": {},
          "execution_count": 23
        }
      ],
      "source": [
        "np.sort(df.target.unique()).tolist()"
      ]
    },
    {
      "cell_type": "code",
      "execution_count": 24,
      "metadata": {
        "colab": {
          "base_uri": "https://localhost:8080/"
        },
        "id": "D2wWhq9SQmlf",
        "outputId": "745020cc-6454-4d3b-aadc-3b184353eb21"
      },
      "outputs": [
        {
          "output_type": "execute_result",
          "data": {
            "text/plain": [
              "1    16620\n",
              "0     9060\n",
              "4      580\n",
              "2      400\n",
              "3      300\n",
              "Name: target, dtype: int64"
            ]
          },
          "metadata": {},
          "execution_count": 24
        }
      ],
      "source": [
        "# Undersampling\n",
        "df_0 = df[df.target==0].sample(frac=0.3,replace=False)\n",
        "df_1 = df[df.target==1].sample(frac=0.3,replace=False)\n",
        "# oversamplig\n",
        "df_2 = df[df.target==2].sample(frac=200,replace=True)\n",
        "df_3 = df[df.target==3].sample(frac=100,replace=True)\n",
        "df_4 = df[df.target==4].sample(frac=2,replace=True)\n",
        "\n",
        "sampled_df = pd.concat([df_0,df_1,df_2,df_3,df_4])\n",
        "\n",
        "sampled_df.target.value_counts()"
      ]
    },
    {
      "cell_type": "markdown",
      "metadata": {
        "id": "Uieop5AnQmlf"
      },
      "source": [
        "## Train / Test Data Preparation"
      ]
    },
    {
      "cell_type": "code",
      "execution_count": 25,
      "metadata": {
        "id": "iH17_LcGQmlg"
      },
      "outputs": [],
      "source": [
        "X = sampled_df[['latitude', 'longitude',\n",
        "       'completion_to_start',\n",
        "       'start_to_expiry', 'approval_to_issuance', 'completion_to_payment',\n",
        "       'presence_of_enquiry_details',  'license_description_target_1',\n",
        "       'state_target_1', 'city_target_1', 'license_description_target_2',\n",
        "       'state_target_2', 'city_target_2', 'license_description_target_3',\n",
        "       'state_target_3', 'city_target_3', 'license_description_target_4',\n",
        "       'state_target_4', 'city_target_4', 'license_description_target_5',\n",
        "       'state_target_5', 'city_target_5']]\n",
        "\n",
        "y = sampled_df['target']"
      ]
    },
    {
      "cell_type": "code",
      "execution_count": 26,
      "metadata": {
        "id": "bXpHorKpQmlh"
      },
      "outputs": [],
      "source": [
        "# mean imputation\n",
        "X = X.fillna(X.mean())"
      ]
    },
    {
      "cell_type": "code",
      "execution_count": 27,
      "metadata": {
        "id": "Fp_F0RGDQmlh"
      },
      "outputs": [],
      "source": [
        "# Train/test preparation\n",
        "from sklearn.model_selection import train_test_split\n",
        "from sklearn.ensemble import RandomForestClassifier\n",
        "from sklearn.metrics import f1_score\n",
        "\n",
        "X_train, X_test, y_train, y_test = train_test_split(X,y, test_size=0.1)"
      ]
    },
    {
      "cell_type": "markdown",
      "metadata": {
        "id": "_H5PsEeQQmli"
      },
      "source": [
        "## Modeling"
      ]
    },
    {
      "cell_type": "code",
      "execution_count": 28,
      "metadata": {
        "id": "MuI95G6BQmli"
      },
      "outputs": [],
      "source": [
        "# KNN\n",
        "from sklearn.neighbors import KNeighborsClassifier\n",
        "knn_model = KNeighborsClassifier(n_neighbors=3)"
      ]
    },
    {
      "cell_type": "code",
      "execution_count": 29,
      "metadata": {
        "id": "y03M9GXxQmli"
      },
      "outputs": [],
      "source": [
        "# Scaling\n",
        "from sklearn.preprocessing import MinMaxScaler\n",
        "scaler = MinMaxScaler()\n",
        "scaler.fit(X_train)\n",
        "knn_model.fit((scaler.transform(X_train)),y_train)\n",
        "scaler.fit(X_test)\n",
        "y_pred = knn_model.predict(scaler.transform(X_test))"
      ]
    },
    {
      "cell_type": "code",
      "execution_count": 30,
      "metadata": {
        "colab": {
          "base_uri": "https://localhost:8080/"
        },
        "id": "pgxGAMaoQmlj",
        "outputId": "399d73f8-a1a3-4890-c256-ccb212cd891f"
      },
      "outputs": [
        {
          "output_type": "stream",
          "name": "stdout",
          "text": [
            "              precision    recall  f1-score   support\n",
            "\n",
            "           0       0.75      0.74      0.75       904\n",
            "           1       0.86      0.89      0.88      1657\n",
            "           2       0.00      0.00      0.00        41\n",
            "           3       1.00      0.36      0.53        36\n",
            "           4       0.24      0.38      0.29        58\n",
            "\n",
            "    accuracy                           0.81      2696\n",
            "   macro avg       0.57      0.47      0.49      2696\n",
            "weighted avg       0.80      0.81      0.80      2696\n",
            "\n"
          ]
        },
        {
          "output_type": "stream",
          "name": "stderr",
          "text": [
            "/usr/local/lib/python3.7/dist-packages/sklearn/metrics/_classification.py:1318: UndefinedMetricWarning: Precision and F-score are ill-defined and being set to 0.0 in labels with no predicted samples. Use `zero_division` parameter to control this behavior.\n",
            "  _warn_prf(average, modifier, msg_start, len(result))\n",
            "/usr/local/lib/python3.7/dist-packages/sklearn/metrics/_classification.py:1318: UndefinedMetricWarning: Precision and F-score are ill-defined and being set to 0.0 in labels with no predicted samples. Use `zero_division` parameter to control this behavior.\n",
            "  _warn_prf(average, modifier, msg_start, len(result))\n",
            "/usr/local/lib/python3.7/dist-packages/sklearn/metrics/_classification.py:1318: UndefinedMetricWarning: Precision and F-score are ill-defined and being set to 0.0 in labels with no predicted samples. Use `zero_division` parameter to control this behavior.\n",
            "  _warn_prf(average, modifier, msg_start, len(result))\n"
          ]
        }
      ],
      "source": [
        "# Metrics Performance\n",
        "from sklearn.metrics import classification_report\n",
        "from sklearn.metrics import classification_report,confusion_matrix\n",
        "print(classification_report(y_test,y_pred))"
      ]
    },
    {
      "cell_type": "code",
      "execution_count": 33,
      "metadata": {
        "colab": {
          "base_uri": "https://localhost:8080/"
        },
        "id": "JOeNhCWVQmlj",
        "outputId": "5b416956-fd6d-4915-e2bf-708ec8224419"
      },
      "outputs": [
        {
          "output_type": "stream",
          "name": "stderr",
          "text": [
            "/usr/local/lib/python3.7/dist-packages/sklearn/linear_model/_logistic.py:818: ConvergenceWarning: lbfgs failed to converge (status=1):\n",
            "STOP: TOTAL NO. of ITERATIONS REACHED LIMIT.\n",
            "\n",
            "Increase the number of iterations (max_iter) or scale the data as shown in:\n",
            "    https://scikit-learn.org/stable/modules/preprocessing.html\n",
            "Please also refer to the documentation for alternative solver options:\n",
            "    https://scikit-learn.org/stable/modules/linear_model.html#logistic-regression\n",
            "  extra_warning_msg=_LOGISTIC_SOLVER_CONVERGENCE_MSG,\n"
          ]
        }
      ],
      "source": [
        "# Logistic regression\n",
        "from sklearn.linear_model import LogisticRegression\n",
        "log_model = LogisticRegression()\n",
        "log_model.fit(X_train, y_train)\n",
        "y_pred = log_model.predict(X_test)"
      ]
    },
    {
      "cell_type": "code",
      "execution_count": null,
      "metadata": {
        "id": "uGbVL9sbQmlk"
      },
      "outputs": [],
      "source": [
        "# Metrics Performance\n",
        "print(classification_report(y_test,y_pred))"
      ]
    },
    {
      "cell_type": "code",
      "execution_count": 34,
      "metadata": {
        "colab": {
          "base_uri": "https://localhost:8080/"
        },
        "id": "qaiWpaDMQmll",
        "outputId": "d98f549b-e6e3-4b6d-d1dc-4e740a8925c8"
      },
      "outputs": [
        {
          "output_type": "stream",
          "name": "stdout",
          "text": [
            "[[ 555  344    2    3    0]\n",
            " [ 143 1495    0   18    1]\n",
            " [   0   41    0    0    0]\n",
            " [  36    0    0    0    0]\n",
            " [  55    2    0    1    0]]\n"
          ]
        }
      ],
      "source": [
        "# Metrics Performance\n",
        "print(confusion_matrix(y_test,y_pred))"
      ]
    },
    {
      "cell_type": "code",
      "execution_count": 35,
      "metadata": {
        "id": "GYJ9dUY5Qmll"
      },
      "outputs": [],
      "source": [
        "# Naive Bias\n",
        "from sklearn.naive_bayes import GaussianNB\n",
        "nb_model = GaussianNB()\n",
        "y_pred = nb_model.fit(X_train, y_train).predict(X_test)"
      ]
    },
    {
      "cell_type": "code",
      "execution_count": 36,
      "metadata": {
        "colab": {
          "base_uri": "https://localhost:8080/"
        },
        "id": "liP3riPzQmlm",
        "outputId": "95f807c2-5c35-426d-a710-bf4942468027"
      },
      "outputs": [
        {
          "output_type": "stream",
          "name": "stdout",
          "text": [
            "              precision    recall  f1-score   support\n",
            "\n",
            "           0       0.63      0.37      0.47       904\n",
            "           1       0.91      0.86      0.88      1657\n",
            "           2       1.00      1.00      1.00        41\n",
            "           3       0.26      1.00      0.41        36\n",
            "           4       0.11      0.79      0.20        58\n",
            "\n",
            "    accuracy                           0.70      2696\n",
            "   macro avg       0.58      0.81      0.59      2696\n",
            "weighted avg       0.79      0.70      0.73      2696\n",
            "\n"
          ]
        }
      ],
      "source": [
        "# Metrics Performance\n",
        "print(classification_report(y_test,y_pred))"
      ]
    },
    {
      "cell_type": "code",
      "execution_count": 37,
      "metadata": {
        "colab": {
          "base_uri": "https://localhost:8080/"
        },
        "id": "Ur9DakrMQmlm",
        "outputId": "5dbdf827-6ab5-400a-ef52-9a1901c3d4b0"
      },
      "outputs": [
        {
          "output_type": "stream",
          "name": "stdout",
          "text": [
            "[[ 335  148    0   90  331]\n",
            " [ 189 1432    0    6   30]\n",
            " [   0    0   41    0    0]\n",
            " [   0    0    0   36    0]\n",
            " [   5    0    0    7   46]]\n"
          ]
        }
      ],
      "source": [
        "print(confusion_matrix(y_test,y_pred))"
      ]
    },
    {
      "cell_type": "code",
      "execution_count": 38,
      "metadata": {
        "id": "P0mv1CMgQmln"
      },
      "outputs": [],
      "source": [
        "# Decision Tree\n",
        "from sklearn.tree import DecisionTreeClassifier\n",
        "dt_model = DecisionTreeClassifier(random_state=0)\n",
        "y_pred = dt_model.fit(X_train, y_train).predict(X_test)"
      ]
    },
    {
      "cell_type": "code",
      "execution_count": 39,
      "metadata": {
        "colab": {
          "base_uri": "https://localhost:8080/"
        },
        "id": "1i9t5-z0Qmln",
        "outputId": "60440114-a436-4ec2-d649-c3ab17bfd2d8"
      },
      "outputs": [
        {
          "output_type": "execute_result",
          "data": {
            "text/plain": [
              "DecisionTreeClassifier()"
            ]
          },
          "metadata": {},
          "execution_count": 39
        }
      ],
      "source": [
        "\n",
        "# Decision Tree\n",
        "from sklearn.tree import DecisionTreeClassifier\n",
        "DecisionTreeClassifier()"
      ]
    },
    {
      "cell_type": "code",
      "execution_count": 40,
      "metadata": {
        "colab": {
          "base_uri": "https://localhost:8080/"
        },
        "id": "M1RcD2mdQmlo",
        "outputId": "84e55700-a212-4230-e983-9d15e3c825e0"
      },
      "outputs": [
        {
          "output_type": "stream",
          "name": "stdout",
          "text": [
            "              precision    recall  f1-score   support\n",
            "\n",
            "           0       0.80      0.79      0.80       904\n",
            "           1       0.90      0.89      0.89      1657\n",
            "           2       1.00      1.00      1.00        41\n",
            "           3       0.95      1.00      0.97        36\n",
            "           4       0.76      0.95      0.85        58\n",
            "\n",
            "    accuracy                           0.86      2696\n",
            "   macro avg       0.88      0.93      0.90      2696\n",
            "weighted avg       0.86      0.86      0.86      2696\n",
            "\n"
          ]
        }
      ],
      "source": [
        "# Metrics Performance\n",
        "print(classification_report(y_test,y_pred))"
      ]
    },
    {
      "cell_type": "code",
      "execution_count": 41,
      "metadata": {
        "colab": {
          "base_uri": "https://localhost:8080/"
        },
        "id": "pyiRArQVQmlo",
        "outputId": "283a38da-da6d-4d62-c8aa-4b6ce1017dc2"
      },
      "outputs": [
        {
          "output_type": "stream",
          "name": "stdout",
          "text": [
            "[[ 718  170    0    2   14]\n",
            " [ 176 1478    0    0    3]\n",
            " [   0    0   41    0    0]\n",
            " [   0    0    0   36    0]\n",
            " [   2    1    0    0   55]]\n"
          ]
        }
      ],
      "source": [
        "print(confusion_matrix(y_test,y_pred))"
      ]
    },
    {
      "cell_type": "code",
      "execution_count": 42,
      "metadata": {
        "id": "dA5mVm3UQmlp"
      },
      "outputs": [],
      "source": [
        "# Finding the variable with more importance\n",
        "feature_importance = pd.DataFrame([X_train.columns, dt_model.feature_importances_])\n",
        "feature_importance = feature_importance.T.sort_values(by = 1, ascending=False)[1:10]"
      ]
    },
    {
      "cell_type": "code",
      "execution_count": 43,
      "metadata": {
        "colab": {
          "base_uri": "https://localhost:8080/",
          "height": 313
        },
        "id": "5ToFsBnGQmlp",
        "outputId": "e72a5803-9a69-46b8-c22b-f797849e9c67"
      },
      "outputs": [
        {
          "output_type": "stream",
          "name": "stderr",
          "text": [
            "WARNING:matplotlib.legend:No handles with labels found to put in legend.\n"
          ]
        },
        {
          "output_type": "display_data",
          "data": {
            "text/plain": [
              "<Figure size 432x288 with 1 Axes>"
            ],
            "image/png": "[encoded data removed]"
          },
          "metadata": {
            "needs_background": "light"
          }
        }
      ],
      "source": [
        "import seaborn as sns\n",
        "sns.barplot(x=feature_importance[1], y=feature_importance[0])\n",
        "# Add labels to the graph\n",
        "plt.xlabel('Feature Importance Score')\n",
        "plt.ylabel('Features')\n",
        "plt.title(\"Visualizing Important Features\")\n",
        "plt.legend()\n",
        "plt.show()"
      ]
    },
    {
      "cell_type": "code",
      "execution_count": 44,
      "metadata": {
        "id": "uwQv4kMZQmlq"
      },
      "outputs": [],
      "source": [
        "# Random Tree\n",
        "from sklearn.ensemble import RandomForestClassifier\n",
        "rf_model = RandomForestClassifier(random_state=1)\n",
        "y_pred = rf_model.fit(X_train, y_train).predict(X_test)"
      ]
    },
    {
      "cell_type": "code",
      "execution_count": 45,
      "metadata": {
        "colab": {
          "base_uri": "https://localhost:8080/"
        },
        "id": "2TTgC4rnQmlq",
        "outputId": "b336067f-043e-4fe3-d4ba-2cf2a2109518"
      },
      "outputs": [
        {
          "output_type": "execute_result",
          "data": {
            "text/plain": [
              "{'bootstrap': True,\n",
              " 'ccp_alpha': 0.0,\n",
              " 'class_weight': None,\n",
              " 'criterion': 'gini',\n",
              " 'max_depth': None,\n",
              " 'max_features': 'auto',\n",
              " 'max_leaf_nodes': None,\n",
              " 'max_samples': None,\n",
              " 'min_impurity_decrease': 0.0,\n",
              " 'min_samples_leaf': 1,\n",
              " 'min_samples_split': 2,\n",
              " 'min_weight_fraction_leaf': 0.0,\n",
              " 'n_estimators': 100,\n",
              " 'n_jobs': None,\n",
              " 'oob_score': False,\n",
              " 'random_state': 1,\n",
              " 'verbose': 0,\n",
              " 'warm_start': False}"
            ]
          },
          "metadata": {},
          "execution_count": 45
        }
      ],
      "source": [
        "rf_model.get_params()"
      ]
    },
    {
      "cell_type": "code",
      "execution_count": 46,
      "metadata": {
        "colab": {
          "base_uri": "https://localhost:8080/"
        },
        "id": "ebCgqAmAQmlq",
        "outputId": "7fd9aca1-0850-4ff4-d028-0bc52e94ccee"
      },
      "outputs": [
        {
          "output_type": "stream",
          "name": "stdout",
          "text": [
            "              precision    recall  f1-score   support\n",
            "\n",
            "           0       0.85      0.86      0.85       904\n",
            "           1       0.92      0.92      0.92      1657\n",
            "           2       1.00      1.00      1.00        41\n",
            "           3       1.00      1.00      1.00        36\n",
            "           4       0.93      0.97      0.95        58\n",
            "\n",
            "    accuracy                           0.90      2696\n",
            "   macro avg       0.94      0.95      0.94      2696\n",
            "weighted avg       0.90      0.90      0.90      2696\n",
            "\n"
          ]
        }
      ],
      "source": [
        "# Metrics Performance\n",
        "print(classification_report(y_test,y_pred))"
      ]
    },
    {
      "cell_type": "code",
      "execution_count": 47,
      "metadata": {
        "id": "ulnhSInmQmlr"
      },
      "outputs": [],
      "source": [
        "# Finding the variable with more importance\n",
        "feature_importance = pd.DataFrame([X_train.columns, rf_model.feature_importances_])\n",
        "feature_importance = feature_importance.T.sort_values(by = 1, ascending=False)[1:10]"
      ]
    },
    {
      "cell_type": "code",
      "execution_count": 48,
      "metadata": {
        "colab": {
          "base_uri": "https://localhost:8080/",
          "height": 313
        },
        "id": "jv77hfOdQmlr",
        "outputId": "15a3d861-cfd4-48c0-a089-daa06bd20094"
      },
      "outputs": [
        {
          "output_type": "stream",
          "name": "stderr",
          "text": [
            "WARNING:matplotlib.legend:No handles with labels found to put in legend.\n"
          ]
        },
        {
          "output_type": "display_data",
          "data": {
            "text/plain": [
              "<Figure size 432x288 with 1 Axes>"
            ],
            "image/png": "[encoded data removed]"
          },
          "metadata": {
            "needs_background": "light"
          }
        }
      ],
      "source": [
        "import seaborn as sns\n",
        "sns.barplot(x=feature_importance[1], y=feature_importance[0])\n",
        "# Add labels to the graph\n",
        "plt.xlabel('Feature Importance Score')\n",
        "plt.ylabel('Features')\n",
        "plt.title(\"Visualizing Important Features\")\n",
        "plt.legend()\n",
        "plt.show()"
      ]
    },
    {
      "cell_type": "code",
      "execution_count": 49,
      "metadata": {
        "colab": {
          "base_uri": "https://localhost:8080/"
        },
        "id": "X8NSUDUJQmls",
        "outputId": "d3483170-4e82-4544-d25e-94c9c4357077"
      },
      "outputs": [
        {
          "output_type": "execute_result",
          "data": {
            "text/plain": [
              "AdaBoostClassifier(random_state=0)"
            ]
          },
          "metadata": {},
          "execution_count": 49
        }
      ],
      "source": [
        "from sklearn.ensemble import AdaBoostClassifier\n",
        "ada_model = AdaBoostClassifier(random_state=0)\n",
        "ada_model.fit(X_train,y_train)"
      ]
    },
    {
      "cell_type": "code",
      "execution_count": 50,
      "metadata": {
        "id": "ZZ32M1g-Qmlu"
      },
      "outputs": [],
      "source": [
        "y_pred = ada_model.predict(X_test)"
      ]
    },
    {
      "cell_type": "code",
      "execution_count": 51,
      "metadata": {
        "colab": {
          "base_uri": "https://localhost:8080/"
        },
        "id": "L6laguLFQmlv",
        "outputId": "484d2f14-9499-4689-ca5d-8247b25534ae"
      },
      "outputs": [
        {
          "output_type": "stream",
          "name": "stdout",
          "text": [
            "              precision    recall  f1-score   support\n",
            "\n",
            "           0       0.68      0.85      0.76       904\n",
            "           1       0.90      0.81      0.85      1657\n",
            "           2       0.63      1.00      0.77        41\n",
            "           3       0.62      0.36      0.46        36\n",
            "           4       0.00      0.00      0.00        58\n",
            "\n",
            "    accuracy                           0.80      2696\n",
            "   macro avg       0.57      0.60      0.57      2696\n",
            "weighted avg       0.80      0.80      0.80      2696\n",
            "\n"
          ]
        }
      ],
      "source": [
        "# Metrics Performance\n",
        "print(classification_report(y_test,y_pred))"
      ]
    },
    {
      "cell_type": "code",
      "execution_count": 52,
      "metadata": {
        "id": "EXJ_zffZQmlw"
      },
      "outputs": [],
      "source": [
        "# xg Boost\n",
        "from xgboost import XGBClassifier"
      ]
    },
    {
      "cell_type": "code",
      "execution_count": 53,
      "metadata": {
        "colab": {
          "base_uri": "https://localhost:8080/"
        },
        "id": "GESx_tPZQmlx",
        "outputId": "53510577-d93e-46ec-9d4d-162895b2f0de"
      },
      "outputs": [
        {
          "output_type": "execute_result",
          "data": {
            "text/plain": [
              "(24264, 22)"
            ]
          },
          "metadata": {},
          "execution_count": 53
        }
      ],
      "source": [
        "X_train.shape"
      ]
    },
    {
      "cell_type": "code",
      "execution_count": 54,
      "metadata": {
        "colab": {
          "base_uri": "https://localhost:8080/"
        },
        "id": "yIwc0UoxQmlx",
        "outputId": "0db1f205-b108-44a6-c75f-c3cba1eed6f4"
      },
      "outputs": [
        {
          "output_type": "execute_result",
          "data": {
            "text/plain": [
              "XGBClassifier(objective='multi:softprob', random_state=1)"
            ]
          },
          "metadata": {},
          "execution_count": 54
        }
      ],
      "source": [
        "xg_model = XGBClassifier(random_state=1)\n",
        "xg_model.fit(X_train, y_train)"
      ]
    },
    {
      "cell_type": "code",
      "execution_count": 55,
      "metadata": {
        "id": "owmb28yDQmly"
      },
      "outputs": [],
      "source": [
        "y_pred = xg_model.predict(X_test)"
      ]
    },
    {
      "cell_type": "code",
      "execution_count": 56,
      "metadata": {
        "colab": {
          "base_uri": "https://localhost:8080/"
        },
        "id": "80tPODMzQmlz",
        "outputId": "82712e05-0a20-43b4-d2b7-ae0428d1066b"
      },
      "outputs": [
        {
          "output_type": "execute_result",
          "data": {
            "text/plain": [
              "0.8483133565534761"
            ]
          },
          "metadata": {},
          "execution_count": 56
        }
      ],
      "source": [
        "from sklearn import metrics\n",
        "metrics.f1_score(y_test,y_pred,average=\"macro\")"
      ]
    },
    {
      "cell_type": "code",
      "execution_count": 57,
      "metadata": {
        "colab": {
          "base_uri": "https://localhost:8080/"
        },
        "id": "uNRAfNoFQmlz",
        "outputId": "09368a42-1be8-4e2f-be6d-96082e17ac3b"
      },
      "outputs": [
        {
          "output_type": "stream",
          "name": "stdout",
          "text": [
            "              precision    recall  f1-score   support\n",
            "\n",
            "           0       0.81      0.84      0.83       904\n",
            "           1       0.92      0.91      0.92      1657\n",
            "           2       1.00      1.00      1.00        41\n",
            "           3       0.97      1.00      0.99        36\n",
            "           4       0.72      0.40      0.51        58\n",
            "\n",
            "    accuracy                           0.88      2696\n",
            "   macro avg       0.88      0.83      0.85      2696\n",
            "weighted avg       0.88      0.88      0.88      2696\n",
            "\n"
          ]
        }
      ],
      "source": [
        "# Metrics Performance\n",
        "print(classification_report(y_test,y_pred))"
      ]
    },
    {
      "cell_type": "code",
      "execution_count": 58,
      "metadata": {
        "id": "O8CXak0XQml0"
      },
      "outputs": [],
      "source": [
        "# Finding the variable with more importance\n",
        "feature_importance = pd.DataFrame([X_train.columns, xg_model.feature_importances_])\n",
        "feature_importance = feature_importance.T.sort_values(by = 1, ascending=False)[1:10]"
      ]
    },
    {
      "cell_type": "code",
      "execution_count": 59,
      "metadata": {
        "colab": {
          "base_uri": "https://localhost:8080/",
          "height": 313
        },
        "id": "2ZdePhZBQml0",
        "outputId": "e4d9df9f-7273-4858-c620-102af56fdb4f"
      },
      "outputs": [
        {
          "output_type": "stream",
          "name": "stderr",
          "text": [
            "WARNING:matplotlib.legend:No handles with labels found to put in legend.\n"
          ]
        },
        {
          "output_type": "display_data",
          "data": {
            "text/plain": [
              "<Figure size 432x288 with 1 Axes>"
            ],
            "image/png": "[encoded data removed]"
          },
          "metadata": {
            "needs_background": "light"
          }
        }
      ],
      "source": [
        "import seaborn as sns\n",
        "sns.barplot(x=feature_importance[1], y=feature_importance[0])\n",
        "# Add labels to the graph\n",
        "plt.xlabel('Feature Importance Score')\n",
        "plt.ylabel('Features')\n",
        "plt.title(\"Visualizing Important Features\")\n",
        "plt.legend()\n",
        "plt.show()"
      ]
    },
    {
      "cell_type": "code",
      "execution_count": 62,
      "metadata": {
        "colab": {
          "base_uri": "https://localhost:8080/",
          "height": 36
        },
        "id": "ZwBwvdC2Qml1",
        "outputId": "acbfd540-0241-42a9-d022-d71ba48f5d0b"
      },
      "outputs": [
        {
          "output_type": "execute_result",
          "data": {
            "text/plain": [
              "'\\n1. No. of trees\\n2. Depth of the trees\\n3. Min no. of samples in the leaf node\\n4. Max number of features\\n5. Split Criterion \\n'"
            ],
            "application/vnd.google.colaboratory.intrinsic+json": {
              "type": "string"
            }
          },
          "metadata": {},
          "execution_count": 62
        }
      ],
      "source": [
        "# Hyperparameter Tuning - Tree parameters\n",
        "'''\n",
        "1. No. of trees\n",
        "2. Depth of the trees\n",
        "3. Min no. of samples in the leaf node\n",
        "4. Max number of features\n",
        "5. Split Criterion \n",
        "'''"
      ]
    },
    {
      "cell_type": "code",
      "execution_count": 63,
      "metadata": {
        "id": "EbAmX-CgQml1"
      },
      "outputs": [],
      "source": [
        "from sklearn.model_selection import RandomizedSearchCV,GridSearchCV"
      ]
    },
    {
      "cell_type": "code",
      "execution_count": 64,
      "metadata": {
        "id": "xR0OAXOXQml2"
      },
      "outputs": [],
      "source": [
        "#Number of trees in random forest\n",
        "n_estimators = [int(x) for x in np.linspace(start = 200, stop = 2000, num = 10)]\n",
        "# Number of features to consider at every split\n",
        "max_features = ['auto', 'sqrt']\n",
        "# Maximum number of levels in tree\n",
        "max_depth = [int(x) for x in np.linspace(10, 110, num = 11)]\n",
        "max_depth.append(None)\n",
        "# Minimum number of samples required to split a node\n",
        "min_samples_split = [2, 5, 10,15,20]\n",
        "# Minimum number of samples required at each leaf node\n",
        "min_samples_leaf = [1, 2, 4,6,10]"
      ]
    },
    {
      "cell_type": "code",
      "execution_count": 65,
      "metadata": {
        "colab": {
          "base_uri": "https://localhost:8080/"
        },
        "id": "Jgin8lF_Qml2",
        "outputId": "042ba1ce-0632-46f0-f620-df7b3b4ab75b"
      },
      "outputs": [
        {
          "output_type": "execute_result",
          "data": {
            "text/plain": [
              "[200, 400, 600, 800, 1000, 1200, 1400, 1600, 1800, 2000]"
            ]
          },
          "metadata": {},
          "execution_count": 65
        }
      ],
      "source": [
        "n_estimators"
      ]
    },
    {
      "cell_type": "code",
      "execution_count": 66,
      "metadata": {
        "colab": {
          "base_uri": "https://localhost:8080/"
        },
        "id": "Rry4XfjiQml3",
        "outputId": "598f3b0c-ccd4-4d84-d5e5-a34ecc5c3c92"
      },
      "outputs": [
        {
          "output_type": "execute_result",
          "data": {
            "text/plain": [
              "[10, 20, 30, 40, 50, 60, 70, 80, 90, 100, 110, None]"
            ]
          },
          "metadata": {},
          "execution_count": 66
        }
      ],
      "source": [
        "max_depth"
      ]
    },
    {
      "cell_type": "code",
      "execution_count": 67,
      "metadata": {
        "colab": {
          "base_uri": "https://localhost:8080/"
        },
        "id": "I0CvocBCQml4",
        "outputId": "7abe55ea-1dbc-4751-ef0e-3bcb16e82cc1"
      },
      "outputs": [
        {
          "output_type": "stream",
          "name": "stdout",
          "text": [
            "{'n_estimators': [200, 400, 600, 800, 1000, 1200, 1400, 1600, 1800, 2000], 'max_features': ['auto', 'sqrt'], 'max_depth': [10, 20, 30, 40, 50, 60, 70, 80, 90, 100, 110, None], 'min_samples_split': [2, 5, 10, 15, 20], 'min_samples_leaf': [1]}\n"
          ]
        }
      ],
      "source": [
        "# Create the random grid\n",
        "random_grid = {'n_estimators': n_estimators,\n",
        "               'max_features': max_features,\n",
        "               'max_depth': max_depth,\n",
        "               'min_samples_split': min_samples_split,\n",
        "               'min_samples_leaf': min_samples_leaf,\n",
        "               'min_samples_leaf':[1]\n",
        "               }\n",
        "print(random_grid)"
      ]
    },
    {
      "cell_type": "code",
      "execution_count": 68,
      "metadata": {
        "id": "Xdj39wRNQml5"
      },
      "outputs": [],
      "source": [
        "rf_random = RandomizedSearchCV(estimator = rf_model, \n",
        "                               param_distributions = random_grid, n_iter = 10, cv = 3, \n",
        "                               verbose=2, random_state=42, n_jobs = -1)"
      ]
    },
    {
      "cell_type": "code",
      "execution_count": 69,
      "metadata": {
        "colab": {
          "base_uri": "https://localhost:8080/"
        },
        "id": "aAJ_ULKrQml5",
        "outputId": "1338a8fa-fdf8-4a6f-e319-327125eba132"
      },
      "outputs": [
        {
          "output_type": "stream",
          "name": "stdout",
          "text": [
            "Fitting 3 folds for each of 10 candidates, totalling 30 fits\n"
          ]
        },
        {
          "output_type": "execute_result",
          "data": {
            "text/plain": [
              "RandomizedSearchCV(cv=3, estimator=RandomForestClassifier(random_state=1),\n",
              "                   n_jobs=-1,\n",
              "                   param_distributions={'max_depth': [10, 20, 30, 40, 50, 60,\n",
              "                                                      70, 80, 90, 100, 110,\n",
              "                                                      None],\n",
              "                                        'max_features': ['auto', 'sqrt'],\n",
              "                                        'min_samples_leaf': [1],\n",
              "                                        'min_samples_split': [2, 5, 10, 15, 20],\n",
              "                                        'n_estimators': [200, 400, 600, 800,\n",
              "                                                         1000, 1200, 1400, 1600,\n",
              "                                                         1800, 2000]},\n",
              "                   random_state=42, verbose=2)"
            ]
          },
          "metadata": {},
          "execution_count": 69
        }
      ],
      "source": [
        "rf_random.fit(X_train,y_train)"
      ]
    },
    {
      "cell_type": "code",
      "execution_count": 70,
      "metadata": {
        "colab": {
          "base_uri": "https://localhost:8080/"
        },
        "id": "oP1cw2h6Qml6",
        "outputId": "223edeef-696a-44f1-8163-72a59f958a35"
      },
      "outputs": [
        {
          "output_type": "execute_result",
          "data": {
            "text/plain": [
              "{'n_estimators': 1400,\n",
              " 'min_samples_split': 5,\n",
              " 'min_samples_leaf': 1,\n",
              " 'max_features': 'sqrt',\n",
              " 'max_depth': 50}"
            ]
          },
          "metadata": {},
          "execution_count": 70
        }
      ],
      "source": [
        "rf_random.best_params_"
      ]
    },
    {
      "cell_type": "code",
      "execution_count": 74,
      "metadata": {
        "id": "JVYEpSbJQml7"
      },
      "outputs": [],
      "source": [
        "rf_model_tuned = RandomForestClassifier(**rf_random.best_params_)"
      ]
    },
    {
      "cell_type": "code",
      "execution_count": 75,
      "metadata": {
        "colab": {
          "base_uri": "https://localhost:8080/"
        },
        "id": "6QslluBSQml7",
        "outputId": "7641516f-9e6f-46fc-de75-c9f0f6cf237c"
      },
      "outputs": [
        {
          "output_type": "execute_result",
          "data": {
            "text/plain": [
              "RandomForestClassifier(max_depth=50, max_features='sqrt', min_samples_split=5,\n",
              "                       n_estimators=1400)"
            ]
          },
          "metadata": {},
          "execution_count": 75
        }
      ],
      "source": [
        "rf_model_tuned.fit(X_train,y_train)"
      ]
    },
    {
      "cell_type": "code",
      "execution_count": 76,
      "metadata": {
        "id": "LXGyOWKbQml8"
      },
      "outputs": [],
      "source": [
        "y_pred = rf_model_tuned.predict(X_test)"
      ]
    },
    {
      "cell_type": "code",
      "execution_count": 77,
      "metadata": {
        "colab": {
          "base_uri": "https://localhost:8080/"
        },
        "id": "f07lV7uNQml8",
        "outputId": "7326e91f-7df7-44a0-9bab-b2d7b05b2b8e"
      },
      "outputs": [
        {
          "output_type": "stream",
          "name": "stdout",
          "text": [
            "              precision    recall  f1-score   support\n",
            "\n",
            "           0       0.85      0.85      0.85       904\n",
            "           1       0.92      0.92      0.92      1657\n",
            "           2       1.00      1.00      1.00        41\n",
            "           3       1.00      1.00      1.00        36\n",
            "           4       0.89      0.86      0.88        58\n",
            "\n",
            "    accuracy                           0.90      2696\n",
            "   macro avg       0.93      0.93      0.93      2696\n",
            "weighted avg       0.90      0.90      0.90      2696\n",
            "\n"
          ]
        }
      ],
      "source": [
        "print(classification_report(y_test,y_pred))"
      ]
    },
    {
      "cell_type": "code",
      "execution_count": 78,
      "metadata": {
        "id": "AK4b62fvQml9"
      },
      "outputs": [],
      "source": [
        "from sklearn.model_selection import GridSearchCV"
      ]
    },
    {
      "cell_type": "code",
      "execution_count": 79,
      "metadata": {
        "id": "Wcj1NTqVQml9"
      },
      "outputs": [],
      "source": [
        "# Create the parameter grid based on the results of random search \n",
        "param_grid = {\n",
        "    'max_depth': [50,100,150,None],\n",
        "    'min_samples_leaf': [3, 4, 5],\n",
        "    'min_samples_split': [2,4,5,6],\n",
        "    'n_estimators': [50,100,150,200]\n",
        "}\n",
        "\n",
        "grid_search = GridSearchCV(estimator = rf_model, param_grid = param_grid, \n",
        "                          cv = 3, n_jobs = -1, verbose = 2)"
      ]
    },
    {
      "cell_type": "code",
      "execution_count": 80,
      "metadata": {
        "colab": {
          "base_uri": "https://localhost:8080/"
        },
        "id": "LBF_CluHQml-",
        "outputId": "833efb26-09c6-483f-e4f3-df8b19aee58f"
      },
      "outputs": [
        {
          "output_type": "execute_result",
          "data": {
            "text/plain": [
              "576"
            ]
          },
          "metadata": {},
          "execution_count": 80
        }
      ],
      "source": [
        "4*3*4*4*3"
      ]
    },
    {
      "cell_type": "code",
      "execution_count": 81,
      "metadata": {
        "colab": {
          "base_uri": "https://localhost:8080/"
        },
        "id": "3omfPmqnQml-",
        "outputId": "163e150e-b7ec-45c6-d941-0da86e8aa547"
      },
      "outputs": [
        {
          "output_type": "stream",
          "name": "stdout",
          "text": [
            "Fitting 3 folds for each of 192 candidates, totalling 576 fits\n"
          ]
        },
        {
          "output_type": "execute_result",
          "data": {
            "text/plain": [
              "GridSearchCV(cv=3, estimator=RandomForestClassifier(random_state=1), n_jobs=-1,\n",
              "             param_grid={'max_depth': [50, 100, 150, None],\n",
              "                         'min_samples_leaf': [3, 4, 5],\n",
              "                         'min_samples_split': [2, 4, 5, 6],\n",
              "                         'n_estimators': [50, 100, 150, 200]},\n",
              "             verbose=2)"
            ]
          },
          "metadata": {},
          "execution_count": 81
        }
      ],
      "source": [
        "grid_search.fit(X_train,y_train)"
      ]
    },
    {
      "cell_type": "code",
      "execution_count": 82,
      "metadata": {
        "colab": {
          "base_uri": "https://localhost:8080/"
        },
        "id": "uTktCpg2Qml_",
        "outputId": "e8bf58f0-fcaf-436c-95c6-4464ca72ddc0"
      },
      "outputs": [
        {
          "output_type": "execute_result",
          "data": {
            "text/plain": [
              "{'max_depth': 50,\n",
              " 'min_samples_leaf': 3,\n",
              " 'min_samples_split': 2,\n",
              " 'n_estimators': 150}"
            ]
          },
          "metadata": {},
          "execution_count": 82
        }
      ],
      "source": [
        "grid_search.best_params_"
      ]
    },
    {
      "cell_type": "code",
      "execution_count": 83,
      "metadata": {
        "id": "t3MDAvf3Qml_"
      },
      "outputs": [],
      "source": [
        "rf_grid_tuned = RandomForestClassifier(**grid_search.best_params_)"
      ]
    },
    {
      "cell_type": "code",
      "execution_count": 84,
      "metadata": {
        "colab": {
          "base_uri": "https://localhost:8080/"
        },
        "id": "gkqDh50gQmmA",
        "outputId": "ea29ac3e-add2-4983-f9c6-dd0281bd07da"
      },
      "outputs": [
        {
          "output_type": "execute_result",
          "data": {
            "text/plain": [
              "RandomForestClassifier(max_depth=50, min_samples_leaf=3, n_estimators=150)"
            ]
          },
          "metadata": {},
          "execution_count": 84
        }
      ],
      "source": [
        "rf_grid_tuned.fit(X_train,y_train)"
      ]
    },
    {
      "cell_type": "code",
      "execution_count": 85,
      "metadata": {
        "id": "p0ZgYCCpQmmA"
      },
      "outputs": [],
      "source": [
        "y_pred = rf_grid_tuned.predict(X_test)"
      ]
    },
    {
      "cell_type": "code",
      "execution_count": 86,
      "metadata": {
        "colab": {
          "base_uri": "https://localhost:8080/"
        },
        "id": "tXm8h7k-QmmB",
        "outputId": "b11147e8-0dd9-4ca4-fd19-510efeb5dbf9"
      },
      "outputs": [
        {
          "output_type": "stream",
          "name": "stdout",
          "text": [
            "              precision    recall  f1-score   support\n",
            "\n",
            "           0       0.83      0.84      0.84       904\n",
            "           1       0.92      0.92      0.92      1657\n",
            "           2       1.00      1.00      1.00        41\n",
            "           3       1.00      1.00      1.00        36\n",
            "           4       0.86      0.62      0.72        58\n",
            "\n",
            "    accuracy                           0.89      2696\n",
            "   macro avg       0.92      0.88      0.90      2696\n",
            "weighted avg       0.89      0.89      0.89      2696\n",
            "\n"
          ]
        }
      ],
      "source": [
        "print(classification_report(y_test,y_pred))"
      ]
    },
    {
      "cell_type": "code",
      "execution_count": 87,
      "metadata": {
        "id": "AeWX8elRQmmB"
      },
      "outputs": [],
      "source": [
        "# Hyper paramater tuning using hyper opt"
      ]
    },
    {
      "cell_type": "code",
      "execution_count": 88,
      "metadata": {
        "id": "woEs9smHQmmB"
      },
      "outputs": [],
      "source": [
        "from hyperopt import hp,fmin,tpe,Trials"
      ]
    },
    {
      "cell_type": "code",
      "execution_count": 89,
      "metadata": {
        "id": "EOjkInQdQmmC"
      },
      "outputs": [],
      "source": [
        "# Create the parameter grid based on the results of random search \n",
        "param_grid_space ={'max_depth': hp.quniform(\"max_depth\", 3, 18, 1),\n",
        "        'gamma': hp.uniform ('gamma', 1,9),\n",
        "        'reg_alpha' : hp.quniform('reg_alpha', 40,180,1),\n",
        "        'reg_lambda' : hp.uniform('reg_lambda', 0,1),\n",
        "        'colsample_bytree' : hp.uniform('colsample_bytree', 0.5,1),\n",
        "        'min_child_weight' : hp.quniform('min_child_weight', 0, 10, 1),\n",
        "        'n_estimators': 180\n",
        "    }"
      ]
    },
    {
      "cell_type": "code",
      "execution_count": 90,
      "metadata": {
        "id": "xk9ORKS6QmmC"
      },
      "outputs": [],
      "source": [
        "def optimize(param_grid_space):\n",
        "    X_train,y_train,X_test,y_test\n",
        "    xgbm = XGBClassifier(n_estimators =param_grid_space['n_estimators'], max_depth = int(param_grid_space['max_depth']),\n",
        "                         gamma = param_grid_space['gamma']\n",
        "                        )\n",
        "    xgbm.fit(X_train, y_train)\n",
        "    y_pred = xgbm.predict(X_test)\n",
        "    f1score = metrics.f1_score(y_test,y_pred,average=\"macro\")\n",
        "    return -1*f1score"
      ]
    },
    {
      "cell_type": "code",
      "execution_count": 91,
      "metadata": {
        "colab": {
          "base_uri": "https://localhost:8080/"
        },
        "id": "K93kjJnKQmmD",
        "outputId": "c654a3e5-bbb5-474d-c2dd-4383e2f5cff9"
      },
      "outputs": [
        {
          "output_type": "stream",
          "name": "stdout",
          "text": [
            "100%|██████████| 3/3 [02:06<00:00, 42.20s/it, best loss: -0.925741579146839]\n"
          ]
        }
      ],
      "source": [
        "trial = Trials()\n",
        "result = fmin(fn=optimize,space=param_grid_space,max_evals=3,trials=trial,algo=tpe.suggest)\n"
      ]
    },
    {
      "cell_type": "code",
      "execution_count": 92,
      "metadata": {
        "colab": {
          "base_uri": "https://localhost:8080/"
        },
        "id": "nvGi2tQxQmmD",
        "outputId": "4a4cfd91-2c63-474d-95a3-5491c90746d3"
      },
      "outputs": [
        {
          "output_type": "stream",
          "name": "stdout",
          "text": [
            "{'colsample_bytree': 0.6829234158130091, 'gamma': 1.688271705951382, 'max_depth': 18.0, 'min_child_weight': 1.0, 'reg_alpha': 105.0, 'reg_lambda': 0.023114806276368527}\n"
          ]
        }
      ],
      "source": [
        "print(result)"
      ]
    },
    {
      "cell_type": "code",
      "execution_count": 93,
      "metadata": {
        "id": "PZhzX3NwQmmE"
      },
      "outputs": [],
      "source": [
        "result[\"max_depth\"] = int(result[\"max_depth\"])"
      ]
    },
    {
      "cell_type": "code",
      "execution_count": 94,
      "metadata": {
        "colab": {
          "base_uri": "https://localhost:8080/"
        },
        "id": "vyaFTXH0QmmE",
        "outputId": "a14dc505-db09-4422-9315-879fb47e0a05"
      },
      "outputs": [
        {
          "output_type": "execute_result",
          "data": {
            "text/plain": [
              "XGBClassifier(colsample_bytree=0.6829234158130091, gamma=1.688271705951382,\n",
              "              max_depth=18, min_child_weight=1.0, objective='multi:softprob',\n",
              "              reg_alpha=105.0, reg_lambda=0.023114806276368527)"
            ]
          },
          "metadata": {},
          "execution_count": 94
        }
      ],
      "source": [
        "xg_model = XGBClassifier(**result)\n",
        "xg_model.fit(X_train, y_train)"
      ]
    },
    {
      "cell_type": "code",
      "execution_count": 95,
      "metadata": {
        "id": "Q2QdCQ9RQmmF"
      },
      "outputs": [],
      "source": [
        "y_pred = xg_model.predict(X_test)"
      ]
    },
    {
      "cell_type": "code",
      "execution_count": 96,
      "metadata": {
        "colab": {
          "base_uri": "https://localhost:8080/"
        },
        "id": "IX1CIJ_gQmmF",
        "outputId": "485f81e1-9a4f-4042-f6b0-727e35b8bf0b"
      },
      "outputs": [
        {
          "output_type": "stream",
          "name": "stdout",
          "text": [
            "              precision    recall  f1-score   support\n",
            "\n",
            "           0       0.80      0.83      0.82       904\n",
            "           1       0.91      0.91      0.91      1657\n",
            "           2       1.00      1.00      1.00        41\n",
            "           3       0.97      1.00      0.99        36\n",
            "           4       0.69      0.19      0.30        58\n",
            "\n",
            "    accuracy                           0.87      2696\n",
            "   macro avg       0.87      0.79      0.80      2696\n",
            "weighted avg       0.87      0.87      0.87      2696\n",
            "\n"
          ]
        }
      ],
      "source": [
        "print(classification_report(y_test,y_pred))"
      ]
    },
    {
      "cell_type": "code",
      "execution_count": null,
      "metadata": {
        "id": "JSl8ozcPQmmG"
      },
      "outputs": [],
      "source": []
    }
  ],
  "metadata": {
    "kernelspec": {
      "display_name": "Python 3",
      "language": "python",
      "name": "python3"
    },
    "language_info": {
      "codemirror_mode": {
        "name": "ipython",
        "version": 3
      },
      "file_extension": ".py",
      "mimetype": "text/x-python",
      "name": "python",
      "nbconvert_exporter": "python",
      "pygments_lexer": "ipython3",
      "version": "3.8.8"
    },
    "colab": {
      "provenance": [],
      "include_colab_link": true
    }
  },
  "nbformat": 4,
  "nbformat_minor": 0
}